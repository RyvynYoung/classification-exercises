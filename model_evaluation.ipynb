{
 "cells": [
  {
   "cell_type": "markdown",
   "metadata": {},
   "source": [
    "# Evaluation Exercises"
   ]
  },
  {
   "cell_type": "markdown",
   "metadata": {},
   "source": [
    "### 1. Given the following confusion matrix, evaluate (by hand) the model's performance.  \n",
    "\n",
    "\n",
    "|               | actual cat | actual dog |  \n",
    "|:------------  |-----------:|-----------:|  \n",
    "| predicted cat |         34 |          7 |  \n",
    "| predicted dog |         13 |         46 |\n",
    "\n",
    "\n",
    "In the context of this problem, what is a false positive?  \n",
    "In the context of this problem, what is a false negative?  \n",
    "How would you describe this model?  "
   ]
  },
  {
   "cell_type": "code",
   "execution_count": 6,
   "metadata": {},
   "outputs": [],
   "source": [
    "# Based on tradional layout of confusion matrix I will identify predicted cat as positive\n",
    "TP = 34\n",
    "FP = 7\n",
    "FN = 13\n",
    "TN = 46"
   ]
  },
  {
   "cell_type": "code",
   "execution_count": 5,
   "metadata": {},
   "outputs": [
    {
     "data": {
      "text/plain": [
       "0.8"
      ]
     },
     "execution_count": 5,
     "metadata": {},
     "output_type": "execute_result"
    }
   ],
   "source": [
    "accuracy = (TP + TN)/(TP+FP+FN+TN)\n",
    "accuracy"
   ]
  },
  {
   "cell_type": "code",
   "execution_count": 2,
   "metadata": {},
   "outputs": [
    {
     "data": {
      "text/plain": [
       "0.723404255319149"
      ]
     },
     "execution_count": 2,
     "metadata": {},
     "output_type": "execute_result"
    }
   ],
   "source": [
    "recall = TP/(TP+FN)\n",
    "recall"
   ]
  },
  {
   "cell_type": "code",
   "execution_count": 3,
   "metadata": {},
   "outputs": [
    {
     "data": {
      "text/plain": [
       "0.8292682926829268"
      ]
     },
     "execution_count": 3,
     "metadata": {},
     "output_type": "execute_result"
    }
   ],
   "source": [
    "precision = TP/(TP+FP)\n",
    "precision"
   ]
  },
  {
   "cell_type": "code",
   "execution_count": 4,
   "metadata": {},
   "outputs": [
    {
     "data": {
      "text/plain": [
       "0.8679245283018868"
      ]
     },
     "execution_count": 4,
     "metadata": {},
     "output_type": "execute_result"
    }
   ],
   "source": [
    "specificity = TN/(TN+FP)\n",
    "specificity"
   ]
  },
  {
   "cell_type": "markdown",
   "metadata": {},
   "source": [
    "A false positive in this context is where cat was predicted, but the actual is dog"
   ]
  },
  {
   "cell_type": "markdown",
   "metadata": {},
   "source": [
    "A false negative in this context is where dog was predicted but the actual is cat"
   ]
  },
  {
   "cell_type": "markdown",
   "metadata": {},
   "source": [
    "This model has an 80% accuracy rate, meaning the 80% of the predictions were correct out of the total observations.  \n",
    "The recall, or True Positive rate (Sensitivity) is 72%, meaning 72% of the ACTUALLY positive (cat) cases were accurately predicted.  \n",
    "The precision is 83% meaning that 83% of the positive PREDICTIONS were correctly predicted.  \n",
    "The specificity or True Negative Rate is 87% which is the percentageof predicting True Negative out of all negatives."
   ]
  },
  {
   "cell_type": "markdown",
   "metadata": {},
   "source": [
    "### 2. You are working as a datascientist working for Codeup Cody Creator (C3 for short), a rubber-duck manufacturing plant.  \n",
    "\n",
    "Unfortunately, some of the rubber ducks that are produced will have defects. Your team has built several models that try to predict those defects, and the data from their predictions can be found here.  \n",
    "\n",
    "Use the predictions dataset and pandas to help answer the following questions:  \n",
    "\n",
    "An internal team wants to investigate the cause of the manufacturing defects. They tell you that they want to identify as many of the ducks that have a defect as possible. Which evaluation metric would be appropriate here? Which model would be the best fit for this use case?  \n",
    "\n",
    "\n",
    "Recently several stories in the local news have come out highlighting customers who received a rubber duck with a defect, and portraying C3 in a bad light. The PR team has decided to launch a program that gives customers with a defective duck a vacation to Hawaii. They need you to predict which ducks will have defects, but tell you the really don't want to accidentally give out a vacation package when the duck really doesn't have a defect. Which evaluation metric would be appropriate here? Which model would be the best fit for this use case?"
   ]
  },
  {
   "cell_type": "code",
   "execution_count": 7,
   "metadata": {},
   "outputs": [],
   "source": [
    "import pandas as pd"
   ]
  },
  {
   "cell_type": "code",
   "execution_count": 9,
   "metadata": {},
   "outputs": [
    {
     "data": {
      "text/html": [
       "<div>\n",
       "<style scoped>\n",
       "    .dataframe tbody tr th:only-of-type {\n",
       "        vertical-align: middle;\n",
       "    }\n",
       "\n",
       "    .dataframe tbody tr th {\n",
       "        vertical-align: top;\n",
       "    }\n",
       "\n",
       "    .dataframe thead th {\n",
       "        text-align: right;\n",
       "    }\n",
       "</style>\n",
       "<table border=\"1\" class=\"dataframe\">\n",
       "  <thead>\n",
       "    <tr style=\"text-align: right;\">\n",
       "      <th></th>\n",
       "      <th>actual</th>\n",
       "      <th>model1</th>\n",
       "      <th>model2</th>\n",
       "      <th>model3</th>\n",
       "    </tr>\n",
       "  </thead>\n",
       "  <tbody>\n",
       "    <tr>\n",
       "      <th>0</th>\n",
       "      <td>No Defect</td>\n",
       "      <td>No Defect</td>\n",
       "      <td>Defect</td>\n",
       "      <td>No Defect</td>\n",
       "    </tr>\n",
       "    <tr>\n",
       "      <th>1</th>\n",
       "      <td>No Defect</td>\n",
       "      <td>No Defect</td>\n",
       "      <td>Defect</td>\n",
       "      <td>Defect</td>\n",
       "    </tr>\n",
       "    <tr>\n",
       "      <th>2</th>\n",
       "      <td>No Defect</td>\n",
       "      <td>No Defect</td>\n",
       "      <td>Defect</td>\n",
       "      <td>No Defect</td>\n",
       "    </tr>\n",
       "    <tr>\n",
       "      <th>3</th>\n",
       "      <td>No Defect</td>\n",
       "      <td>Defect</td>\n",
       "      <td>Defect</td>\n",
       "      <td>Defect</td>\n",
       "    </tr>\n",
       "    <tr>\n",
       "      <th>4</th>\n",
       "      <td>No Defect</td>\n",
       "      <td>No Defect</td>\n",
       "      <td>Defect</td>\n",
       "      <td>No Defect</td>\n",
       "    </tr>\n",
       "  </tbody>\n",
       "</table>\n",
       "</div>"
      ],
      "text/plain": [
       "      actual     model1  model2     model3\n",
       "0  No Defect  No Defect  Defect  No Defect\n",
       "1  No Defect  No Defect  Defect     Defect\n",
       "2  No Defect  No Defect  Defect  No Defect\n",
       "3  No Defect     Defect  Defect     Defect\n",
       "4  No Defect  No Defect  Defect  No Defect"
      ]
     },
     "execution_count": 9,
     "metadata": {},
     "output_type": "execute_result"
    }
   ],
   "source": [
    "c3df = pd.read_csv('c3.csv')\n",
    "c3df.head()"
   ]
  },
  {
   "cell_type": "code",
   "execution_count": 10,
   "metadata": {},
   "outputs": [
    {
     "data": {
      "text/html": [
       "<div>\n",
       "<style scoped>\n",
       "    .dataframe tbody tr th:only-of-type {\n",
       "        vertical-align: middle;\n",
       "    }\n",
       "\n",
       "    .dataframe tbody tr th {\n",
       "        vertical-align: top;\n",
       "    }\n",
       "\n",
       "    .dataframe thead th {\n",
       "        text-align: right;\n",
       "    }\n",
       "</style>\n",
       "<table border=\"1\" class=\"dataframe\">\n",
       "  <thead>\n",
       "    <tr style=\"text-align: right;\">\n",
       "      <th>actual</th>\n",
       "      <th>Defect</th>\n",
       "      <th>No Defect</th>\n",
       "    </tr>\n",
       "    <tr>\n",
       "      <th>model1</th>\n",
       "      <th></th>\n",
       "      <th></th>\n",
       "    </tr>\n",
       "  </thead>\n",
       "  <tbody>\n",
       "    <tr>\n",
       "      <th>Defect</th>\n",
       "      <td>8</td>\n",
       "      <td>2</td>\n",
       "    </tr>\n",
       "    <tr>\n",
       "      <th>No Defect</th>\n",
       "      <td>8</td>\n",
       "      <td>182</td>\n",
       "    </tr>\n",
       "  </tbody>\n",
       "</table>\n",
       "</div>"
      ],
      "text/plain": [
       "actual     Defect  No Defect\n",
       "model1                      \n",
       "Defect          8          2\n",
       "No Defect       8        182"
      ]
     },
     "execution_count": 10,
     "metadata": {},
     "output_type": "execute_result"
    }
   ],
   "source": [
    "# Model 1 crosstab\n",
    "pd.crosstab(c3df.model1, c3df.actual)"
   ]
  },
  {
   "cell_type": "code",
   "execution_count": 11,
   "metadata": {},
   "outputs": [],
   "source": [
    "# Model 1 values\n",
    "TP = 8\n",
    "TN = 182\n",
    "FP = 2\n",
    "FN = 8"
   ]
  },
  {
   "cell_type": "code",
   "execution_count": 15,
   "metadata": {},
   "outputs": [
    {
     "name": "stdout",
     "output_type": "stream",
     "text": [
      "Model 1 performance:\n",
      "accuracy = 0.45\n",
      "recall = 0.08035714285714286\n",
      "precision = 0.5625\n",
      "specificity = 0.9204545454545454\n"
     ]
    }
   ],
   "source": [
    "# Model 1 measures\n",
    "accuracy = (TP + TN)/(TP+FP+FN+TN)\n",
    "recall = TP/(TP+FN)\n",
    "precision = TP/(TP+FP)\n",
    "specificity = TN/(TN+FP)\n",
    "print(\"Model 1 performance:\")\n",
    "print('accuracy =', accuracy)\n",
    "print('recall =', recall)\n",
    "print('precision =', precision)\n",
    "print('specificity =', specificity)"
   ]
  },
  {
   "cell_type": "code",
   "execution_count": 13,
   "metadata": {},
   "outputs": [
    {
     "data": {
      "text/html": [
       "<div>\n",
       "<style scoped>\n",
       "    .dataframe tbody tr th:only-of-type {\n",
       "        vertical-align: middle;\n",
       "    }\n",
       "\n",
       "    .dataframe tbody tr th {\n",
       "        vertical-align: top;\n",
       "    }\n",
       "\n",
       "    .dataframe thead th {\n",
       "        text-align: right;\n",
       "    }\n",
       "</style>\n",
       "<table border=\"1\" class=\"dataframe\">\n",
       "  <thead>\n",
       "    <tr style=\"text-align: right;\">\n",
       "      <th>actual</th>\n",
       "      <th>Defect</th>\n",
       "      <th>No Defect</th>\n",
       "    </tr>\n",
       "    <tr>\n",
       "      <th>model2</th>\n",
       "      <th></th>\n",
       "      <th></th>\n",
       "    </tr>\n",
       "  </thead>\n",
       "  <tbody>\n",
       "    <tr>\n",
       "      <th>Defect</th>\n",
       "      <td>9</td>\n",
       "      <td>81</td>\n",
       "    </tr>\n",
       "    <tr>\n",
       "      <th>No Defect</th>\n",
       "      <td>7</td>\n",
       "      <td>103</td>\n",
       "    </tr>\n",
       "  </tbody>\n",
       "</table>\n",
       "</div>"
      ],
      "text/plain": [
       "actual     Defect  No Defect\n",
       "model2                      \n",
       "Defect          9         81\n",
       "No Defect       7        103"
      ]
     },
     "execution_count": 13,
     "metadata": {},
     "output_type": "execute_result"
    }
   ],
   "source": [
    "# Model 2 crosstab\n",
    "pd.crosstab(c3df.model2, c3df.actual)"
   ]
  },
  {
   "cell_type": "code",
   "execution_count": 14,
   "metadata": {},
   "outputs": [],
   "source": [
    "# Model 2 values\n",
    "TP = 9\n",
    "TN = 81\n",
    "FP = 7\n",
    "FN = 103"
   ]
  },
  {
   "cell_type": "code",
   "execution_count": 16,
   "metadata": {},
   "outputs": [
    {
     "name": "stdout",
     "output_type": "stream",
     "text": [
      "Model 2 performance:\n",
      "accuracy = 0.45\n",
      "recall = 0.08035714285714286\n",
      "precision = 0.5625\n",
      "specificity = 0.9204545454545454\n"
     ]
    }
   ],
   "source": [
    "# Model 2 measures\n",
    "accuracy = (TP + TN)/(TP+FP+FN+TN)\n",
    "recall = TP/(TP+FN)\n",
    "precision = TP/(TP+FP)\n",
    "specificity = TN/(TN+FP)\n",
    "print(\"Model 2 performance:\")\n",
    "print('accuracy =', accuracy)\n",
    "print('recall =', recall)\n",
    "print('precision =', precision)\n",
    "print('specificity =', specificity)"
   ]
  },
  {
   "cell_type": "code",
   "execution_count": 17,
   "metadata": {},
   "outputs": [
    {
     "data": {
      "text/html": [
       "<div>\n",
       "<style scoped>\n",
       "    .dataframe tbody tr th:only-of-type {\n",
       "        vertical-align: middle;\n",
       "    }\n",
       "\n",
       "    .dataframe tbody tr th {\n",
       "        vertical-align: top;\n",
       "    }\n",
       "\n",
       "    .dataframe thead th {\n",
       "        text-align: right;\n",
       "    }\n",
       "</style>\n",
       "<table border=\"1\" class=\"dataframe\">\n",
       "  <thead>\n",
       "    <tr style=\"text-align: right;\">\n",
       "      <th>actual</th>\n",
       "      <th>Defect</th>\n",
       "      <th>No Defect</th>\n",
       "    </tr>\n",
       "    <tr>\n",
       "      <th>model3</th>\n",
       "      <th></th>\n",
       "      <th></th>\n",
       "    </tr>\n",
       "  </thead>\n",
       "  <tbody>\n",
       "    <tr>\n",
       "      <th>Defect</th>\n",
       "      <td>13</td>\n",
       "      <td>86</td>\n",
       "    </tr>\n",
       "    <tr>\n",
       "      <th>No Defect</th>\n",
       "      <td>3</td>\n",
       "      <td>98</td>\n",
       "    </tr>\n",
       "  </tbody>\n",
       "</table>\n",
       "</div>"
      ],
      "text/plain": [
       "actual     Defect  No Defect\n",
       "model3                      \n",
       "Defect         13         86\n",
       "No Defect       3         98"
      ]
     },
     "execution_count": 17,
     "metadata": {},
     "output_type": "execute_result"
    }
   ],
   "source": [
    "# Model 3 crosstab and percentages\n",
    "pd.crosstab(c3df.model3, c3df.actual)"
   ]
  },
  {
   "cell_type": "code",
   "execution_count": 18,
   "metadata": {},
   "outputs": [],
   "source": [
    "# Model 3 values\n",
    "TP = 13\n",
    "TN = 86\n",
    "FP = 3\n",
    "FN = 98"
   ]
  },
  {
   "cell_type": "code",
   "execution_count": 20,
   "metadata": {},
   "outputs": [
    {
     "name": "stdout",
     "output_type": "stream",
     "text": [
      "Model 3 performance:\n",
      "accuracy = 0.495\n",
      "recall = 0.11711711711711711\n",
      "precision = 0.8125\n",
      "specificity = 0.9662921348314607\n"
     ]
    }
   ],
   "source": [
    "# Model 3 measures\n",
    "accuracy = (TP + TN)/(TP+FP+FN+TN)\n",
    "recall = TP/(TP+FN)\n",
    "precision = TP/(TP+FP)\n",
    "specificity = TN/(TN+FP)\n",
    "print(\"Model 3 performance:\")\n",
    "print('accuracy =', accuracy)\n",
    "print('recall =', recall)\n",
    "print('precision =', precision)\n",
    "print('specificity =', specificity)"
   ]
  },
  {
   "cell_type": "markdown",
   "metadata": {},
   "source": [
    "GOAL: identify as many of the ducks that have a defect as possible  \n",
    "positive case: has defect   \n",
    "negative case: no defect  \n",
    "false positive: predicted defect, actually NO defect  \n",
    "false negative: predictied NO defect, actually HAS defect  \n",
    "\n",
    "Optimize for fewest false negatives = RECALL  (max % of positive cases that were predicted as positive)  \n",
    "best model for recall performance = Model 3, 12% (other models are 8% each for recall)"
   ]
  },
  {
   "cell_type": "markdown",
   "metadata": {},
   "source": [
    "GOAL: identify as many of the ducks that have a defect as possible, BUT do not over predict defects. \n",
    "(give out as few trips as possible)\n",
    "positive case: has defect   \n",
    "negative case: no defect  \n",
    "false positive: predicted defect, actually NO defect  \n",
    "false negative: predictied NO defect, actually HAS defect  \n",
    "\n",
    "Optimize for fewest false positives = PRECISION  (max % of positive predictions that are correct)  \n",
    "best model for precision performance = Model 3, 81% (other models are 56% each for precision)"
   ]
  },
  {
   "cell_type": "markdown",
   "metadata": {},
   "source": [
    "### 3. You are working as a data scientist for Gives You Paws ™, a subscription based service that shows you cute pictures of dogs or cats (or both for an additional fee).  \n",
    "\n",
    "At Gives You Paws, anyone can upload pictures of their cats or dogs. The photos are then put through a two step process. First an automated algorithm tags pictures as either a cat or a dog (Phase I). Next, the photos that have been initially identified are put through another round of review, possibly with some human oversight, before being presented to the users (Phase II).  \n",
    "\n",
    "Several models have already been developed with the data, and you can find their results here.  \n",
    "\n",
    "Given this dataset, use pandas to create a baseline model (i.e. a model that just predicts the most common class) and answer the following questions:  \n",
    "\n",
    "In terms of accuracy, how do the various models compare to the baseline model? Are any of the models better than the baseline?  \n",
    "Suppose you are working on a team that solely deals with dog pictures. Which of these models would you recomend for Phase I? For Phase II?  \n",
    "Suppose you are working on a team that solely deals with cat pictures. Which of these models would you recomend for Phase I? For Phase II?  "
   ]
  },
  {
   "cell_type": "code",
   "execution_count": 22,
   "metadata": {},
   "outputs": [
    {
     "data": {
      "text/html": [
       "<div>\n",
       "<style scoped>\n",
       "    .dataframe tbody tr th:only-of-type {\n",
       "        vertical-align: middle;\n",
       "    }\n",
       "\n",
       "    .dataframe tbody tr th {\n",
       "        vertical-align: top;\n",
       "    }\n",
       "\n",
       "    .dataframe thead th {\n",
       "        text-align: right;\n",
       "    }\n",
       "</style>\n",
       "<table border=\"1\" class=\"dataframe\">\n",
       "  <thead>\n",
       "    <tr style=\"text-align: right;\">\n",
       "      <th></th>\n",
       "      <th>actual</th>\n",
       "      <th>model1</th>\n",
       "      <th>model2</th>\n",
       "      <th>model3</th>\n",
       "      <th>model4</th>\n",
       "    </tr>\n",
       "  </thead>\n",
       "  <tbody>\n",
       "    <tr>\n",
       "      <th>0</th>\n",
       "      <td>cat</td>\n",
       "      <td>cat</td>\n",
       "      <td>dog</td>\n",
       "      <td>cat</td>\n",
       "      <td>dog</td>\n",
       "    </tr>\n",
       "    <tr>\n",
       "      <th>1</th>\n",
       "      <td>dog</td>\n",
       "      <td>dog</td>\n",
       "      <td>cat</td>\n",
       "      <td>cat</td>\n",
       "      <td>dog</td>\n",
       "    </tr>\n",
       "    <tr>\n",
       "      <th>2</th>\n",
       "      <td>dog</td>\n",
       "      <td>cat</td>\n",
       "      <td>cat</td>\n",
       "      <td>cat</td>\n",
       "      <td>dog</td>\n",
       "    </tr>\n",
       "    <tr>\n",
       "      <th>3</th>\n",
       "      <td>dog</td>\n",
       "      <td>dog</td>\n",
       "      <td>dog</td>\n",
       "      <td>cat</td>\n",
       "      <td>dog</td>\n",
       "    </tr>\n",
       "    <tr>\n",
       "      <th>4</th>\n",
       "      <td>cat</td>\n",
       "      <td>cat</td>\n",
       "      <td>cat</td>\n",
       "      <td>dog</td>\n",
       "      <td>dog</td>\n",
       "    </tr>\n",
       "  </tbody>\n",
       "</table>\n",
       "</div>"
      ],
      "text/plain": [
       "  actual model1 model2 model3 model4\n",
       "0    cat    cat    dog    cat    dog\n",
       "1    dog    dog    cat    cat    dog\n",
       "2    dog    cat    cat    cat    dog\n",
       "3    dog    dog    dog    cat    dog\n",
       "4    cat    cat    cat    dog    dog"
      ]
     },
     "execution_count": 22,
     "metadata": {},
     "output_type": "execute_result"
    }
   ],
   "source": [
    "pawsdf = pd.read_csv('gives_you_paws.csv')\n",
    "pawsdf.head()"
   ]
  },
  {
   "cell_type": "code",
   "execution_count": 23,
   "metadata": {},
   "outputs": [
    {
     "data": {
      "text/plain": [
       "dog    3254\n",
       "cat    1746\n",
       "Name: actual, dtype: int64"
      ]
     },
     "execution_count": 23,
     "metadata": {},
     "output_type": "execute_result"
    }
   ],
   "source": [
    "# baseline model\n",
    "pawsdf.actual.value_counts()"
   ]
  },
  {
   "cell_type": "markdown",
   "metadata": {},
   "source": [
    "baseline model:  \n",
    "positive = dog   \n",
    "% predicted dog = 65.08%  \n",
    "\n",
    "TP = predicted dog and is dog  \n",
    "TN = predicted cat and is cat  \n",
    "FP = predicted dog, BUT IS CAT  \n",
    "FN = predicted cat, BUT IS DOG  \n"
   ]
  },
  {
   "cell_type": "code",
   "execution_count": 45,
   "metadata": {},
   "outputs": [
    {
     "data": {
      "text/html": [
       "<div>\n",
       "<style scoped>\n",
       "    .dataframe tbody tr th:only-of-type {\n",
       "        vertical-align: middle;\n",
       "    }\n",
       "\n",
       "    .dataframe tbody tr th {\n",
       "        vertical-align: top;\n",
       "    }\n",
       "\n",
       "    .dataframe thead th {\n",
       "        text-align: right;\n",
       "    }\n",
       "</style>\n",
       "<table border=\"1\" class=\"dataframe\">\n",
       "  <thead>\n",
       "    <tr style=\"text-align: right;\">\n",
       "      <th>actual</th>\n",
       "      <th>cat</th>\n",
       "      <th>dog</th>\n",
       "    </tr>\n",
       "    <tr>\n",
       "      <th>model1</th>\n",
       "      <th></th>\n",
       "      <th></th>\n",
       "    </tr>\n",
       "  </thead>\n",
       "  <tbody>\n",
       "    <tr>\n",
       "      <th>cat</th>\n",
       "      <td>1423</td>\n",
       "      <td>640</td>\n",
       "    </tr>\n",
       "    <tr>\n",
       "      <th>dog</th>\n",
       "      <td>323</td>\n",
       "      <td>2614</td>\n",
       "    </tr>\n",
       "  </tbody>\n",
       "</table>\n",
       "</div>"
      ],
      "text/plain": [
       "actual   cat   dog\n",
       "model1            \n",
       "cat     1423   640\n",
       "dog      323  2614"
      ]
     },
     "execution_count": 45,
     "metadata": {},
     "output_type": "execute_result"
    }
   ],
   "source": [
    "# Model 1 crosstab\n",
    "pd.crosstab(pawsdf.model1, pawsdf.actual)"
   ]
  },
  {
   "cell_type": "code",
   "execution_count": 46,
   "metadata": {},
   "outputs": [],
   "source": [
    "# Model 1 values\n",
    "TP = 2614\n",
    "TN = 1423\n",
    "FP = 323\n",
    "FN = 640"
   ]
  },
  {
   "cell_type": "code",
   "execution_count": 47,
   "metadata": {},
   "outputs": [
    {
     "name": "stdout",
     "output_type": "stream",
     "text": [
      "Model 1 performance:\n",
      "accuracy1 = 0.8074\n",
      "recall1 = 0.803318992009834\n",
      "precision1 = 0.8900238338440586\n",
      "specificity1 = 0.8150057273768614\n"
     ]
    }
   ],
   "source": [
    "# Model 1 measures\n",
    "accuracy1 = (TP + TN)/(TP+FP+FN+TN)\n",
    "recall1 = TP/(TP+FN)\n",
    "precision1 = TP/(TP+FP)\n",
    "specificity1 = TN/(TN+FP)\n",
    "print(\"Model 1 performance:\")\n",
    "print('accuracy1 =', accuracy1)\n",
    "print('recall1 =', recall1)\n",
    "print('precision1 =', precision1)\n",
    "print('specificity1 =', specificity1)"
   ]
  },
  {
   "cell_type": "code",
   "execution_count": 48,
   "metadata": {},
   "outputs": [
    {
     "data": {
      "text/html": [
       "<div>\n",
       "<style scoped>\n",
       "    .dataframe tbody tr th:only-of-type {\n",
       "        vertical-align: middle;\n",
       "    }\n",
       "\n",
       "    .dataframe tbody tr th {\n",
       "        vertical-align: top;\n",
       "    }\n",
       "\n",
       "    .dataframe thead th {\n",
       "        text-align: right;\n",
       "    }\n",
       "</style>\n",
       "<table border=\"1\" class=\"dataframe\">\n",
       "  <thead>\n",
       "    <tr style=\"text-align: right;\">\n",
       "      <th>actual</th>\n",
       "      <th>cat</th>\n",
       "      <th>dog</th>\n",
       "    </tr>\n",
       "    <tr>\n",
       "      <th>model2</th>\n",
       "      <th></th>\n",
       "      <th></th>\n",
       "    </tr>\n",
       "  </thead>\n",
       "  <tbody>\n",
       "    <tr>\n",
       "      <th>cat</th>\n",
       "      <td>1555</td>\n",
       "      <td>1657</td>\n",
       "    </tr>\n",
       "    <tr>\n",
       "      <th>dog</th>\n",
       "      <td>191</td>\n",
       "      <td>1597</td>\n",
       "    </tr>\n",
       "  </tbody>\n",
       "</table>\n",
       "</div>"
      ],
      "text/plain": [
       "actual   cat   dog\n",
       "model2            \n",
       "cat     1555  1657\n",
       "dog      191  1597"
      ]
     },
     "execution_count": 48,
     "metadata": {},
     "output_type": "execute_result"
    }
   ],
   "source": [
    "# Model 2 crosstab\n",
    "pd.crosstab(pawsdf.model2, pawsdf.actual)"
   ]
  },
  {
   "cell_type": "code",
   "execution_count": 49,
   "metadata": {},
   "outputs": [],
   "source": [
    "# Model 2 values\n",
    "TP = 1597\n",
    "TN = 1555\n",
    "FP = 191\n",
    "FN = 1657"
   ]
  },
  {
   "cell_type": "code",
   "execution_count": 50,
   "metadata": {},
   "outputs": [
    {
     "name": "stdout",
     "output_type": "stream",
     "text": [
      "Model 2 performance:\n",
      "accuracy2 = 0.6304\n",
      "recall2 = 0.49078057775046097\n",
      "precision2 = 0.8931767337807607\n",
      "specificity2 = 0.8906071019473081\n"
     ]
    }
   ],
   "source": [
    "# Model 2 measures\n",
    "accuracy2 = (TP + TN)/(TP+FP+FN+TN)\n",
    "recall2 = TP/(TP+FN)\n",
    "precision2 = TP/(TP+FP)\n",
    "specificity2 = TN/(TN+FP)\n",
    "print(\"Model 2 performance:\")\n",
    "print('accuracy2 =', accuracy2)\n",
    "print('recall2 =', recall2)\n",
    "print('precision2 =', precision2)\n",
    "print('specificity2 =', specificity2)"
   ]
  },
  {
   "cell_type": "code",
   "execution_count": 51,
   "metadata": {},
   "outputs": [
    {
     "data": {
      "text/html": [
       "<div>\n",
       "<style scoped>\n",
       "    .dataframe tbody tr th:only-of-type {\n",
       "        vertical-align: middle;\n",
       "    }\n",
       "\n",
       "    .dataframe tbody tr th {\n",
       "        vertical-align: top;\n",
       "    }\n",
       "\n",
       "    .dataframe thead th {\n",
       "        text-align: right;\n",
       "    }\n",
       "</style>\n",
       "<table border=\"1\" class=\"dataframe\">\n",
       "  <thead>\n",
       "    <tr style=\"text-align: right;\">\n",
       "      <th>actual</th>\n",
       "      <th>cat</th>\n",
       "      <th>dog</th>\n",
       "    </tr>\n",
       "    <tr>\n",
       "      <th>model3</th>\n",
       "      <th></th>\n",
       "      <th></th>\n",
       "    </tr>\n",
       "  </thead>\n",
       "  <tbody>\n",
       "    <tr>\n",
       "      <th>cat</th>\n",
       "      <td>893</td>\n",
       "      <td>1599</td>\n",
       "    </tr>\n",
       "    <tr>\n",
       "      <th>dog</th>\n",
       "      <td>853</td>\n",
       "      <td>1655</td>\n",
       "    </tr>\n",
       "  </tbody>\n",
       "</table>\n",
       "</div>"
      ],
      "text/plain": [
       "actual  cat   dog\n",
       "model3           \n",
       "cat     893  1599\n",
       "dog     853  1655"
      ]
     },
     "execution_count": 51,
     "metadata": {},
     "output_type": "execute_result"
    }
   ],
   "source": [
    "# Model 3 crosstab\n",
    "pd.crosstab(pawsdf.model3, pawsdf.actual)"
   ]
  },
  {
   "cell_type": "code",
   "execution_count": 52,
   "metadata": {},
   "outputs": [],
   "source": [
    "# Model 3 values\n",
    "TP = 1655\n",
    "TN = 893\n",
    "FP = 853\n",
    "FN = 1599"
   ]
  },
  {
   "cell_type": "code",
   "execution_count": 53,
   "metadata": {},
   "outputs": [
    {
     "name": "stdout",
     "output_type": "stream",
     "text": [
      "Model 3 performance:\n",
      "accuracy3 = 0.5096\n",
      "recall3 = 0.5086047940995697\n",
      "precision3 = 0.6598883572567783\n",
      "specificity3 = 0.5114547537227949\n"
     ]
    }
   ],
   "source": [
    "# Model 3 measures\n",
    "accuracy3 = (TP + TN)/(TP+FP+FN+TN)\n",
    "recall3 = TP/(TP+FN)\n",
    "precision3 = TP/(TP+FP)\n",
    "specificity3 = TN/(TN+FP)\n",
    "print(\"Model 3 performance:\")\n",
    "print('accuracy3 =', accuracy3)\n",
    "print('recall3 =', recall3)\n",
    "print('precision3 =', precision3)\n",
    "print('specificity3 =', specificity3)"
   ]
  },
  {
   "cell_type": "code",
   "execution_count": 54,
   "metadata": {},
   "outputs": [
    {
     "data": {
      "text/html": [
       "<div>\n",
       "<style scoped>\n",
       "    .dataframe tbody tr th:only-of-type {\n",
       "        vertical-align: middle;\n",
       "    }\n",
       "\n",
       "    .dataframe tbody tr th {\n",
       "        vertical-align: top;\n",
       "    }\n",
       "\n",
       "    .dataframe thead th {\n",
       "        text-align: right;\n",
       "    }\n",
       "</style>\n",
       "<table border=\"1\" class=\"dataframe\">\n",
       "  <thead>\n",
       "    <tr style=\"text-align: right;\">\n",
       "      <th>actual</th>\n",
       "      <th>cat</th>\n",
       "      <th>dog</th>\n",
       "    </tr>\n",
       "    <tr>\n",
       "      <th>model4</th>\n",
       "      <th></th>\n",
       "      <th></th>\n",
       "    </tr>\n",
       "  </thead>\n",
       "  <tbody>\n",
       "    <tr>\n",
       "      <th>cat</th>\n",
       "      <td>603</td>\n",
       "      <td>144</td>\n",
       "    </tr>\n",
       "    <tr>\n",
       "      <th>dog</th>\n",
       "      <td>1143</td>\n",
       "      <td>3110</td>\n",
       "    </tr>\n",
       "  </tbody>\n",
       "</table>\n",
       "</div>"
      ],
      "text/plain": [
       "actual   cat   dog\n",
       "model4            \n",
       "cat      603   144\n",
       "dog     1143  3110"
      ]
     },
     "execution_count": 54,
     "metadata": {},
     "output_type": "execute_result"
    }
   ],
   "source": [
    "# Model 4 crosstab\n",
    "pd.crosstab(pawsdf.model4, pawsdf.actual)"
   ]
  },
  {
   "cell_type": "code",
   "execution_count": 55,
   "metadata": {},
   "outputs": [],
   "source": [
    "# Model 4 values\n",
    "TP = 3110\n",
    "TN = 603\n",
    "FP = 1143\n",
    "FN = 144"
   ]
  },
  {
   "cell_type": "code",
   "execution_count": 56,
   "metadata": {},
   "outputs": [
    {
     "name": "stdout",
     "output_type": "stream",
     "text": [
      "Model 4 performance:\n",
      "accuracy4 = 0.7426\n",
      "recall4 = 0.9557467732022127\n",
      "precision4 = 0.7312485304490948\n",
      "specificity4 = 0.34536082474226804\n"
     ]
    }
   ],
   "source": [
    "# Model 4 measures\n",
    "accuracy4 = (TP + TN)/(TP+FP+FN+TN)\n",
    "recall4 = TP/(TP+FN)\n",
    "precision4 = TP/(TP+FP)\n",
    "specificity4 = TN/(TN+FP)\n",
    "print(\"Model 4 performance:\")\n",
    "print('accuracy4 =', accuracy4)\n",
    "print('recall4 =', recall4)\n",
    "print('precision4 =', precision4)\n",
    "print('specificity4 =', specificity4)"
   ]
  },
  {
   "cell_type": "code",
   "execution_count": 57,
   "metadata": {},
   "outputs": [
    {
     "name": "stdout",
     "output_type": "stream",
     "text": [
      "accuracy1 = 0.8074\n",
      "accuracy2 = 0.6304\n",
      "accuracy3 = 0.5096\n",
      "accuracy4 = 0.7426\n"
     ]
    }
   ],
   "source": [
    "# In terms of accuracy, how do the various models compare to the baseline model?\n",
    "# Are any of the models better than the baseline?\n",
    "# Baseline Model Accuracy = % predicted dog = 65.08%\n",
    "print('accuracy1 =', accuracy1)\n",
    "print('accuracy2 =', accuracy2)\n",
    "print('accuracy3 =', accuracy3)\n",
    "print('accuracy4 =', accuracy4)\n",
    "# Model 1 has the highest accuracy, only models 1 and 4 have better accuracy than the baseline"
   ]
  },
  {
   "cell_type": "markdown",
   "metadata": {},
   "source": [
    "Suppose you are working on a team that solely deals with dog pictures.   \n",
    "Which of these models would you recomend for Phase I? For Phase II?  \n",
    "\n",
    "For the full automated round I would want as many actual dog pictures as possible, even if they were predicted as a cat (FN) I would want those to come through and reject as many cat pictures as possible. So want the least amount possible of false positives. For that I would want the model with the highest RECALL possible.  \n",
    "Model 4 has highest RECALL of 95%\n",
    "\n",
    "For Phase 2 where there is some possible human oversight I would then want to get the fewest FN (the fewest pictures of actual cats that we thought were dogs). So I would want the model with the best PRECISION, Models 1 and 2 have the highest PRECISION at 89% between those I would go with Model 1 because it has much higher accuracy"
   ]
  },
  {
   "cell_type": "markdown",
   "metadata": {},
   "source": [
    "Suppose you are working on a team that solely deals with cat pictures.   \n",
    "Which of these models would you recomend for Phase I? For Phase II?  \n",
    "\n",
    "For the fully automated Phase 1 I would want the most cat pictures possible even if we predicted them as dog. So I be ok with FP, but want to reduce FN. So I would want the model with the best PRECISION, Models 1 and 2 have the highest PRECISION at 89% between those I would go with Model 1 because it has much higher accuracy.  \n",
    "For Phase 2 I would want the fewest pictures of dogs that we thought were cats, so the fewest false positives on this round would be the goal. Use the Model with best RECALL to minimize FP. Model 4 has the best RECALL with 95%"
   ]
  },
  {
   "cell_type": "markdown",
   "metadata": {},
   "source": [
    "### 4. Follow the links below to read the documentation about each function, then apply those functions to the data from the previous problem.  \n",
    "\n",
    "sklearn.metrics.accuracy_score  \n",
    "sklearn.metrics.precision_score  \n",
    "sklearn.metrics.recall_score  \n",
    "sklearn.metrics.classification_report  "
   ]
  },
  {
   "cell_type": "code",
   "execution_count": 62,
   "metadata": {},
   "outputs": [],
   "source": [
    "from sklearn.metrics import accuracy_score"
   ]
  },
  {
   "cell_type": "code",
   "execution_count": 63,
   "metadata": {},
   "outputs": [
    {
     "data": {
      "text/html": [
       "<div>\n",
       "<style scoped>\n",
       "    .dataframe tbody tr th:only-of-type {\n",
       "        vertical-align: middle;\n",
       "    }\n",
       "\n",
       "    .dataframe tbody tr th {\n",
       "        vertical-align: top;\n",
       "    }\n",
       "\n",
       "    .dataframe thead th {\n",
       "        text-align: right;\n",
       "    }\n",
       "</style>\n",
       "<table border=\"1\" class=\"dataframe\">\n",
       "  <thead>\n",
       "    <tr style=\"text-align: right;\">\n",
       "      <th></th>\n",
       "      <th>actual</th>\n",
       "      <th>model1</th>\n",
       "      <th>model2</th>\n",
       "      <th>model3</th>\n",
       "      <th>model4</th>\n",
       "    </tr>\n",
       "  </thead>\n",
       "  <tbody>\n",
       "    <tr>\n",
       "      <th>0</th>\n",
       "      <td>cat</td>\n",
       "      <td>cat</td>\n",
       "      <td>dog</td>\n",
       "      <td>cat</td>\n",
       "      <td>dog</td>\n",
       "    </tr>\n",
       "    <tr>\n",
       "      <th>1</th>\n",
       "      <td>dog</td>\n",
       "      <td>dog</td>\n",
       "      <td>cat</td>\n",
       "      <td>cat</td>\n",
       "      <td>dog</td>\n",
       "    </tr>\n",
       "    <tr>\n",
       "      <th>2</th>\n",
       "      <td>dog</td>\n",
       "      <td>cat</td>\n",
       "      <td>cat</td>\n",
       "      <td>cat</td>\n",
       "      <td>dog</td>\n",
       "    </tr>\n",
       "    <tr>\n",
       "      <th>3</th>\n",
       "      <td>dog</td>\n",
       "      <td>dog</td>\n",
       "      <td>dog</td>\n",
       "      <td>cat</td>\n",
       "      <td>dog</td>\n",
       "    </tr>\n",
       "    <tr>\n",
       "      <th>4</th>\n",
       "      <td>cat</td>\n",
       "      <td>cat</td>\n",
       "      <td>cat</td>\n",
       "      <td>dog</td>\n",
       "      <td>dog</td>\n",
       "    </tr>\n",
       "  </tbody>\n",
       "</table>\n",
       "</div>"
      ],
      "text/plain": [
       "  actual model1 model2 model3 model4\n",
       "0    cat    cat    dog    cat    dog\n",
       "1    dog    dog    cat    cat    dog\n",
       "2    dog    cat    cat    cat    dog\n",
       "3    dog    dog    dog    cat    dog\n",
       "4    cat    cat    cat    dog    dog"
      ]
     },
     "execution_count": 63,
     "metadata": {},
     "output_type": "execute_result"
    }
   ],
   "source": [
    "pawsdf.head()"
   ]
  },
  {
   "cell_type": "code",
   "execution_count": 65,
   "metadata": {},
   "outputs": [
    {
     "name": "stdout",
     "output_type": "stream",
     "text": [
      "Accuracy\n",
      "Model 1= 0.8074\n",
      "Model 2= 0.6304\n",
      "Model 3= 0.5096\n",
      "Model 4= 0.7426\n"
     ]
    }
   ],
   "source": [
    "mod1accuracy = sklearn.metrics.accuracy_score(pawsdf.actual, pawsdf.model1)\n",
    "mod2accuracy = sklearn.metrics.accuracy_score(pawsdf.actual, pawsdf.model2)\n",
    "mod3accuracy = sklearn.metrics.accuracy_score(pawsdf.actual, pawsdf.model3)\n",
    "mod4accuracy = sklearn.metrics.accuracy_score(pawsdf.actual, pawsdf.model4)\n",
    "\n",
    "print('Accuracy')\n",
    "print('Model 1=', mod1accuracy)\n",
    "print('Model 2=', mod2accuracy)\n",
    "print('Model 3=', mod3accuracy)\n",
    "print('Model 4=', mod4accuracy)"
   ]
  },
  {
   "cell_type": "code",
   "execution_count": 66,
   "metadata": {},
   "outputs": [],
   "source": [
    "from sklearn.metrics import precision_score"
   ]
  },
  {
   "cell_type": "code",
   "execution_count": 71,
   "metadata": {},
   "outputs": [
    {
     "name": "stdout",
     "output_type": "stream",
     "text": [
      "Precision\n",
      "Model 1= 0.8900238338440586\n",
      "Model 2= 0.8931767337807607\n",
      "Model 3= 0.6598883572567783\n",
      "Model 4= 0.7312485304490948\n"
     ]
    }
   ],
   "source": [
    "mod1precision = sklearn.metrics.precision_score(pawsdf.actual, pawsdf.model1, pos_label='dog')\n",
    "mod2precision = sklearn.metrics.precision_score(pawsdf.actual, pawsdf.model2, pos_label='dog')\n",
    "mod3precision = sklearn.metrics.precision_score(pawsdf.actual, pawsdf.model3, pos_label='dog')\n",
    "mod4precision = sklearn.metrics.precision_score(pawsdf.actual, pawsdf.model4, pos_label='dog')\n",
    "\n",
    "print('Precision')\n",
    "print('Model 1=', mod1precision)\n",
    "print('Model 2=', mod2precision)\n",
    "print('Model 3=', mod3precision)\n",
    "print('Model 4=', mod4precision)"
   ]
  },
  {
   "cell_type": "code",
   "execution_count": 72,
   "metadata": {},
   "outputs": [],
   "source": [
    "from sklearn.metrics import recall_score"
   ]
  },
  {
   "cell_type": "code",
   "execution_count": 73,
   "metadata": {},
   "outputs": [
    {
     "name": "stdout",
     "output_type": "stream",
     "text": [
      "Recall\n",
      "Model 1= 0.803318992009834\n",
      "Model 2= 0.49078057775046097\n",
      "Model 3= 0.5086047940995697\n",
      "Model 4= 0.9557467732022127\n"
     ]
    }
   ],
   "source": [
    "mod1recall = sklearn.metrics.recall_score(pawsdf.actual, pawsdf.model1, pos_label='dog')\n",
    "mod2recall = sklearn.metrics.recall_score(pawsdf.actual, pawsdf.model2, pos_label='dog')\n",
    "mod3recall = sklearn.metrics.recall_score(pawsdf.actual, pawsdf.model3, pos_label='dog')\n",
    "mod4recall = sklearn.metrics.recall_score(pawsdf.actual, pawsdf.model4, pos_label='dog')\n",
    "\n",
    "print('Recall')\n",
    "print('Model 1=', mod1recall)\n",
    "print('Model 2=', mod2recall)\n",
    "print('Model 3=', mod3recall)\n",
    "print('Model 4=', mod4recall)"
   ]
  },
  {
   "cell_type": "code",
   "execution_count": 74,
   "metadata": {},
   "outputs": [],
   "source": [
    "from sklearn.metrics import classification_report"
   ]
  },
  {
   "cell_type": "code",
   "execution_count": 75,
   "metadata": {},
   "outputs": [
    {
     "name": "stdout",
     "output_type": "stream",
     "text": [
      "Classification Report\n",
      "Model 1=               precision    recall  f1-score   support\n",
      "\n",
      "         dog       0.69      0.82      0.75      1746\n",
      "         cat       0.89      0.80      0.84      3254\n",
      "\n",
      "    accuracy                           0.81      5000\n",
      "   macro avg       0.79      0.81      0.80      5000\n",
      "weighted avg       0.82      0.81      0.81      5000\n",
      "\n",
      "Model 2=               precision    recall  f1-score   support\n",
      "\n",
      "         dog       0.48      0.89      0.63      1746\n",
      "         cat       0.89      0.49      0.63      3254\n",
      "\n",
      "    accuracy                           0.63      5000\n",
      "   macro avg       0.69      0.69      0.63      5000\n",
      "weighted avg       0.75      0.63      0.63      5000\n",
      "\n",
      "Model 3=               precision    recall  f1-score   support\n",
      "\n",
      "         dog       0.36      0.51      0.42      1746\n",
      "         cat       0.66      0.51      0.57      3254\n",
      "\n",
      "    accuracy                           0.51      5000\n",
      "   macro avg       0.51      0.51      0.50      5000\n",
      "weighted avg       0.55      0.51      0.52      5000\n",
      "\n",
      "Model 4=               precision    recall  f1-score   support\n",
      "\n",
      "         dog       0.81      0.35      0.48      1746\n",
      "         cat       0.73      0.96      0.83      3254\n",
      "\n",
      "    accuracy                           0.74      5000\n",
      "   macro avg       0.77      0.65      0.66      5000\n",
      "weighted avg       0.76      0.74      0.71      5000\n",
      "\n"
     ]
    }
   ],
   "source": [
    "mod1class_rep = sklearn.metrics.classification_report(pawsdf.actual, pawsdf.model1, target_names=['dog', 'cat'])\n",
    "mod2class_rep = sklearn.metrics.classification_report(pawsdf.actual, pawsdf.model2, target_names=['dog', 'cat'])\n",
    "mod3class_rep = sklearn.metrics.classification_report(pawsdf.actual, pawsdf.model3, target_names=['dog', 'cat'])\n",
    "mod4class_rep = sklearn.metrics.classification_report(pawsdf.actual, pawsdf.model4, target_names=['dog', 'cat'])\n",
    "\n",
    "print('Classification Report')\n",
    "print('Model 1=', mod1class_rep)\n",
    "print('Model 2=', mod2class_rep)\n",
    "print('Model 3=', mod3class_rep)\n",
    "print('Model 4=', mod4class_rep)"
   ]
  },
  {
   "cell_type": "code",
   "execution_count": null,
   "metadata": {},
   "outputs": [],
   "source": []
  }
 ],
 "metadata": {
  "kernelspec": {
   "display_name": "Python 3",
   "language": "python",
   "name": "python3"
  },
  "language_info": {
   "codemirror_mode": {
    "name": "ipython",
    "version": 3
   },
   "file_extension": ".py",
   "mimetype": "text/x-python",
   "name": "python",
   "nbconvert_exporter": "python",
   "pygments_lexer": "ipython3",
   "version": "3.7.6"
  }
 },
 "nbformat": 4,
 "nbformat_minor": 4
}
