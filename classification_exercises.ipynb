{
 "cells": [
  {
   "cell_type": "code",
   "execution_count": 45,
   "metadata": {},
   "outputs": [],
   "source": [
    "import pandas as pd\n",
    "import numpy as np\n",
    "import acquire\n",
    "import prepare\n",
    "\n",
    "import matplotlib.pyplot as plt\n",
    "import seaborn as sns\n",
    "from scipy import stats\n",
    "from sklearn.model_selection import train_test_split\n",
    "from sklearn.impute import SimpleImputer\n",
    "from sklearn.preprocessing import LabelEncoder, OneHotEncoder, MinMaxScaler\n",
    "\n",
    "import warnings\n",
    "warnings.filterwarnings(\"ignore\")"
   ]
  },
  {
   "cell_type": "markdown",
   "metadata": {},
   "source": [
    "# Data Acquire Exercises"
   ]
  },
  {
   "cell_type": "markdown",
   "metadata": {},
   "source": [
    "## 1. Use a python module (pydata or seaborn datasets) containing datasets as a source from the iris data. Create a pandas dataframe, df_iris, from this data.\n",
    "\n",
    "print the first 3 rows  \n",
    "print the number of rows and columns (shape)  \n",
    "print the column names  \n",
    "print the data type of each column  \n",
    "print the summary statistics for each of the numeric variables  \n",
    "Would you recommend rescaling the data based on these statistics?"
   ]
  },
  {
   "cell_type": "code",
   "execution_count": null,
   "metadata": {},
   "outputs": [],
   "source": [
    "df_iris = data('iris')\n",
    "df_iris.head(3)"
   ]
  },
  {
   "cell_type": "code",
   "execution_count": null,
   "metadata": {},
   "outputs": [],
   "source": [
    "df_iris.shape"
   ]
  },
  {
   "cell_type": "code",
   "execution_count": null,
   "metadata": {},
   "outputs": [],
   "source": [
    "df_iris.columns"
   ]
  },
  {
   "cell_type": "code",
   "execution_count": null,
   "metadata": {},
   "outputs": [],
   "source": [
    "df_iris.info()"
   ]
  },
  {
   "cell_type": "code",
   "execution_count": null,
   "metadata": {},
   "outputs": [],
   "source": [
    "df_iris.describe()"
   ]
  },
  {
   "cell_type": "code",
   "execution_count": null,
   "metadata": {},
   "outputs": [],
   "source": [
    "# does not look like data needs to be rescaled based on the data, measurements appear to be in comparable units"
   ]
  },
  {
   "cell_type": "code",
   "execution_count": null,
   "metadata": {},
   "outputs": [],
   "source": []
  },
  {
   "cell_type": "markdown",
   "metadata": {},
   "source": [
    "## 2.Read the Table1_CustDetails table from the Excel_Exercises.xlsx file into a dataframe named df_excel.\n",
    "\n",
    "assign the first 100 rows to a new dataframe, df_excel_sample  \n",
    "print the number of rows of your original dataframe  \n",
    "print the first 5 column names  \n",
    "print the column names that have a data type of object  \n",
    "compute the range for each of the numeric variables."
   ]
  },
  {
   "cell_type": "code",
   "execution_count": null,
   "metadata": {},
   "outputs": [],
   "source": [
    "df_excel_sample = pd.read_excel('Spreadsheets_Exercises_Solutions.xlsx', nrows=100, header=1)\n",
    "df_excel_sample.head()"
   ]
  },
  {
   "cell_type": "code",
   "execution_count": null,
   "metadata": {},
   "outputs": [],
   "source": [
    "df_excel_sample.shape"
   ]
  },
  {
   "cell_type": "code",
   "execution_count": null,
   "metadata": {},
   "outputs": [],
   "source": [
    "df_excel_sample.iloc[:0, :5]"
   ]
  },
  {
   "cell_type": "code",
   "execution_count": null,
   "metadata": {},
   "outputs": [],
   "source": [
    "df_excel_sample.columns.to_series().groupby(df_excel_sample.dtypes == 'object').groups"
   ]
  },
  {
   "cell_type": "code",
   "execution_count": null,
   "metadata": {},
   "outputs": [],
   "source": [
    "df_excel_sample.describe()"
   ]
  },
  {
   "cell_type": "code",
   "execution_count": null,
   "metadata": {},
   "outputs": [],
   "source": []
  },
  {
   "cell_type": "markdown",
   "metadata": {},
   "source": [
    "## 3. Read the data from this google sheet into a dataframe, df_google\n",
    "\n",
    "print the first 3 rows  \n",
    "print the number of rows and columns  \n",
    "print the column names  \n",
    "print the data type of each column  \n",
    "print the summary statistics for each of the numeric variables  \n",
    "print the unique values for each of your categorical variables"
   ]
  },
  {
   "cell_type": "code",
   "execution_count": null,
   "metadata": {},
   "outputs": [],
   "source": [
    "sheet_url = 'https://docs.google.com/spreadsheets/d/1Uhtml8KY19LILuZsrDtlsHHDC9wuDGUSe8LTEwvdI5g/edit#gid=341089357'"
   ]
  },
  {
   "cell_type": "code",
   "execution_count": null,
   "metadata": {},
   "outputs": [],
   "source": [
    "csv_export_url = sheet_url.replace('/edit#gid=', '/export?format=csv&gid=')\n",
    "\n",
    "df_google = pd.read_csv(csv_export_url)\n",
    "df_google.head(3)"
   ]
  },
  {
   "cell_type": "code",
   "execution_count": null,
   "metadata": {},
   "outputs": [],
   "source": [
    "df_google.shape"
   ]
  },
  {
   "cell_type": "code",
   "execution_count": null,
   "metadata": {},
   "outputs": [],
   "source": [
    "df_google.columns"
   ]
  },
  {
   "cell_type": "code",
   "execution_count": null,
   "metadata": {},
   "outputs": [],
   "source": [
    "df_google.info()"
   ]
  },
  {
   "cell_type": "code",
   "execution_count": null,
   "metadata": {},
   "outputs": [],
   "source": [
    "df_google.describe()"
   ]
  },
  {
   "cell_type": "code",
   "execution_count": null,
   "metadata": {},
   "outputs": [],
   "source": [
    "df_google.nunique()"
   ]
  },
  {
   "cell_type": "markdown",
   "metadata": {},
   "source": [
    "# Data Prep Exercises"
   ]
  },
  {
   "cell_type": "markdown",
   "metadata": {},
   "source": [
    "### 1. Iris Data\n",
    "\n",
    "Use the function defined in acquire.py to load the iris data.  \n",
    "Drop the species_id and measurement_id columns.  \n",
    "Rename the species_name column to just species.  \n",
    "Encode the species name using a sklearn label encoder. Research the inverse_transform method of the label encoder.   How might this be useful?  \n",
    "Create a function named prep_iris that accepts the untransformed iris data, and returns the data with the transformations above applied."
   ]
  },
  {
   "cell_type": "code",
   "execution_count": null,
   "metadata": {},
   "outputs": [],
   "source": [
    "# Use the function defined in acquire.py to load the iris data\n",
    "df = acquire.get_iris_data()\n",
    "df.head()"
   ]
  },
  {
   "cell_type": "code",
   "execution_count": null,
   "metadata": {},
   "outputs": [],
   "source": [
    "# Drop the species_id and measurement_id columns\n",
    "irisdf = irisdf.drop(columns=['species_id', 'measurement_id'])"
   ]
  },
  {
   "cell_type": "code",
   "execution_count": null,
   "metadata": {},
   "outputs": [],
   "source": [
    "# Rename the species_name column to just species\n",
    "irisdf = irisdf.rename(columns={'species_name': 'species'})\n",
    "irisdf.head()"
   ]
  },
  {
   "cell_type": "code",
   "execution_count": null,
   "metadata": {},
   "outputs": [],
   "source": [
    "# encoder = LabelEncoder()\n",
    "\n",
    "# encoder.fit(train.embark_town)\n",
    "# train.encoded = encoder.transform(train.embark_town)\n",
    "# test.encoded = encoder.transform(test.embark_town)\n",
    "\n",
    "# print(type(train.encoded))\n",
    "# train.encoded[0:10]"
   ]
  },
  {
   "cell_type": "code",
   "execution_count": null,
   "metadata": {},
   "outputs": [],
   "source": [
    "# this is from the curriculum, but I don't understand how to attach this back to the original df\n",
    "from sklearn.preprocessing import LabelEncoder\n",
    "\n",
    "encoder = LabelEncoder()\n",
    "\n",
    "encoder.fit(irisdf.species)\n",
    "irisdf.encoded = encoder.transform(irisdf.species)\n",
    "print(type(irisdf.encoded))\n",
    "irisdf.encoded"
   ]
  },
  {
   "cell_type": "code",
   "execution_count": null,
   "metadata": {},
   "outputs": [],
   "source": [
    "irisdf.head()"
   ]
  },
  {
   "cell_type": "markdown",
   "metadata": {},
   "source": [
    "The inverse_transform(y)\n",
    "Transform labels back to original encoding."
   ]
  },
  {
   "cell_type": "code",
   "execution_count": null,
   "metadata": {},
   "outputs": [],
   "source": [
    "# this method is from the lesson\n",
    "#df_dummies = pd.get_dummies(df[['sex', 'embark_town']], drop_first=[True, True])\n",
    "#df = pd.concat([df, df_dummies], axis=1)\n",
    "\n",
    "irisdf_dummies = pd.get_dummies(irisdf[['species']], drop_first=True)\n",
    "irisdf = pd.concat([irisdf, irisdf_dummies], axis=1)\n",
    "irisdf.head()"
   ]
  },
  {
   "cell_type": "code",
   "execution_count": null,
   "metadata": {},
   "outputs": [],
   "source": [
    "# Create a function named prep_iris that accepts the untransformed iris data, \n",
    "# and returns the data with the transformations above applied\n",
    "\n",
    "def prep_iris(df):\n",
    "    # Drop the species_id and measurement_id columns\n",
    "    df = df.drop(columns=['species_id', 'measurement_id'])\n",
    "    \n",
    "    # Rename the species_name column to just species\n",
    "    df = df.rename(columns={'species_name': 'species'})\n",
    "    \n",
    "    # encode the species column\n",
    "    df_dummies = pd.get_dummies(df[['species']], drop_first=True)\n",
    "    df = pd.concat([df, df_dummies], axis=1)\n",
    "    \n",
    "    return df\n",
    "\n",
    "irisdf = prep_iris(df)"
   ]
  },
  {
   "cell_type": "code",
   "execution_count": null,
   "metadata": {},
   "outputs": [],
   "source": [
    "irisdf.head()"
   ]
  },
  {
   "cell_type": "markdown",
   "metadata": {},
   "source": [
    "### 2. Titanic Data\n",
    "\n",
    "Use the function you defined in acquire.py to load the titanic data set.  \n",
    "Handle the missing values in the embark_town and embarked columns.  \n",
    "Remove the deck column.  \n",
    "Use a label encoder to transform the embarked column.  \n",
    "Scale the age and fare columns using a min max scaler. Why might this be beneficial? When might you not want to do this?  \n",
    "Fill the missing values in age. The way you fill these values is up to you. Consider the tradeoffs of different methods.  \n",
    "Create a function named prep_titanic that accepts the untransformed titanic data, and returns the data with the transformations above applied."
   ]
  },
  {
   "cell_type": "code",
   "execution_count": null,
   "metadata": {},
   "outputs": [],
   "source": [
    "# Use the function defined in acquire.py to load the titanic data\n",
    "df = acquire.get_titanic_data()\n",
    "df.head()"
   ]
  },
  {
   "cell_type": "code",
   "execution_count": null,
   "metadata": {},
   "outputs": [],
   "source": [
    "df.info()"
   ]
  },
  {
   "cell_type": "code",
   "execution_count": null,
   "metadata": {},
   "outputs": [],
   "source": [
    "# Drop the 2 rows with missing values in embark_town as in lesson\n",
    "# drop missing observations of embark town\n",
    "df = df[~df.embark_town.isnull()]\n",
    "\n",
    "# could fill with mode value instead, but it's 2 rows, so dropped them instead of filling with mode"
   ]
  },
  {
   "cell_type": "code",
   "execution_count": null,
   "metadata": {},
   "outputs": [],
   "source": [
    "# use the pd.get_dummies as in lesson to encode embark_town column\n",
    "# note cirriculum does not specify to do this for sex, but lesson said to\n",
    "# have to do this first, then can add sex to list of columns to drop\n",
    "df_dummies = pd.get_dummies(df[['sex', 'embark_town']], drop_first=True)\n",
    "df = pd.concat([df, df_dummies], axis=1)"
   ]
  },
  {
   "cell_type": "code",
   "execution_count": null,
   "metadata": {},
   "outputs": [],
   "source": [
    "# Drop the embarked and deck columns\n",
    "# lesson notes add dropping class and sex after dealing with creatting dummies\n",
    "df = df.drop(columns=['embarked', 'deck', 'passenger_id', 'class', 'sex'])"
   ]
  },
  {
   "cell_type": "code",
   "execution_count": null,
   "metadata": {},
   "outputs": [],
   "source": [
    "df.head()"
   ]
  },
  {
   "cell_type": "code",
   "execution_count": null,
   "metadata": {},
   "outputs": [],
   "source": [
    "df.info()"
   ]
  },
  {
   "cell_type": "markdown",
   "metadata": {},
   "source": [
    "Scale the age and fare columns using a min max scaler. Why might this be beneficial? When might you not want to do this?  \n",
    "\n",
    "Fare column notes:   \n",
    "- there are 3 first class fares at hightest value all embarking at same town, next lower first class fares embark at different town so value is consistent with distance/time of voyage  \n",
    "- there are 15 values of 0 all for males embarking at Southampton with varying pclass, these should be filled with mean by pclass where embark_town == Southampton "
   ]
  },
  {
   "cell_type": "markdown",
   "metadata": {},
   "source": [
    "Scale the age and fare columns using a min max scaler. Why might this be beneficial? When might you not want to do this?  \n",
    "\n",
    "Age column notes:  \n",
    "\n",
    "- for 1st run will fill age column with median value of train dataset  \n",
    "- next run through would attempt to create Adult/Child value based on alone, age, parch, and sibsp relationships\n",
    "then drop age column and evaluate on Adult/Child instead\n"
   ]
  },
  {
   "cell_type": "code",
   "execution_count": null,
   "metadata": {},
   "outputs": [],
   "source": [
    "# need to split data to get median age based on train data only\n",
    "# copying from curriculum\n",
    "import warnings\n",
    "warnings.filterwarnings(\"ignore\")"
   ]
  },
  {
   "cell_type": "code",
   "execution_count": null,
   "metadata": {},
   "outputs": [],
   "source": [
    "# copying from curriculum\n",
    "train_validate, test = train_test_split(df, test_size=.2, random_state=123, stratify=df.survived)\n",
    "train, validate = train_test_split(train_validate, test_size=.3, random_state=123, stratify=train_validate.survived)\n"
   ]
  },
  {
   "cell_type": "code",
   "execution_count": null,
   "metadata": {},
   "outputs": [],
   "source": [
    "train.head()"
   ]
  },
  {
   "cell_type": "code",
   "execution_count": null,
   "metadata": {},
   "outputs": [],
   "source": [
    "# create imputer object based on median strategy for age\n",
    "imputer = SimpleImputer(strategy = 'median')"
   ]
  },
  {
   "cell_type": "code",
   "execution_count": null,
   "metadata": {},
   "outputs": [],
   "source": [
    "# fit the imputer to the data in the train dataset to find the median age in that set\n",
    "imputer = imputer.fit(train[['age']])"
   ]
  },
  {
   "cell_type": "code",
   "execution_count": null,
   "metadata": {},
   "outputs": [],
   "source": [
    "# use transform to fill the train dataset with the median age, repeat for validate and test datasets\n",
    "train[['age']] = imputer.transform(train[['age']])"
   ]
  },
  {
   "cell_type": "code",
   "execution_count": null,
   "metadata": {},
   "outputs": [],
   "source": [
    "train.isnull().sum()"
   ]
  },
  {
   "cell_type": "code",
   "execution_count": null,
   "metadata": {},
   "outputs": [],
   "source": [
    "validate[['age']] = imputer.transform(validate[['age']])"
   ]
  },
  {
   "cell_type": "code",
   "execution_count": null,
   "metadata": {},
   "outputs": [],
   "source": [
    "validate.isnull().sum()"
   ]
  },
  {
   "cell_type": "code",
   "execution_count": null,
   "metadata": {},
   "outputs": [],
   "source": [
    "test[['age']] = imputer.transform(test[['age']])"
   ]
  },
  {
   "cell_type": "code",
   "execution_count": null,
   "metadata": {},
   "outputs": [],
   "source": [
    "test.isnull().sum()"
   ]
  },
  {
   "cell_type": "code",
   "execution_count": null,
   "metadata": {},
   "outputs": [],
   "source": [
    "# why do you use imputer.fit_transform on validate? shouldn't it be imputer.transform like test is?\n",
    "def impute(train, validate, test, my_strategy, column_list):\n",
    "    imputer = SimpleImputer(strategy=my_strategy)\n",
    "    train[column_list] = imputer.fit_transform(train[column_list])\n",
    "    validate[column_list] = imputer.fit_transform(validate[column_list])\n",
    "    test[column_list] = imputer.transform(test[column_list])\n",
    "    return train, validate, test"
   ]
  },
  {
   "cell_type": "markdown",
   "metadata": {},
   "source": [
    "### Transfer functions to prepare.py file"
   ]
  },
  {
   "cell_type": "code",
   "execution_count": null,
   "metadata": {},
   "outputs": [],
   "source": [
    "def prep_titanic(df):\n",
    "    # drop missing observations of embark town\n",
    "    df = df[~df.embark_town.isnull()]\n",
    "    \n",
    "    # use the pd.get_dummies as in lesson to encode embark_town column\n",
    "    df_dummies = pd.get_dummies(df[['embark_town']], drop_first=True)\n",
    "    df = pd.concat([df, df_dummies], axis=1)\n",
    "    \n",
    "    # Drop the embarked and deck columns\n",
    "    df = df.drop(columns=['embarked', 'deck', 'passenger_id', 'class', 'sex'])\n",
    "    \n",
    "    # split the data\n",
    "    split_dataset(df)\n",
    "    \n",
    "    # handle missing ages\n",
    "    impute(train, validate, test, 'median', ['age'])\n",
    "    "
   ]
  },
  {
   "cell_type": "code",
   "execution_count": null,
   "metadata": {},
   "outputs": [],
   "source": [
    "def split_dataset(df):\n",
    "    train_validate, test = train_test_split(df, test_size=.2, random_state=123, stratify=df.survived)\n",
    "    train, validate = train_test_split(train_validate, test_size=.3, random_state=123, stratify=train_validate.survived)\n",
    "    return train, validate, test\n"
   ]
  },
  {
   "cell_type": "code",
   "execution_count": null,
   "metadata": {},
   "outputs": [],
   "source": [
    "def impute(train, validate, test, my_strategy, column_list):\n",
    "    imputer = SimpleImputer(strategy=my_strategy)\n",
    "    train[column_list] = imputer.fit_transform(train[column_list])\n",
    "    validate[column_list] = imputer.transform(validate[column_list])\n",
    "    test[column_list] = imputer.transform(test[column_list])\n",
    "    return train, validate, test"
   ]
  },
  {
   "cell_type": "markdown",
   "metadata": {},
   "source": [
    "# Zach's requested Exercises\n",
    "### Use Titanic Dataset and tweak demonstrated techniques from lesson"
   ]
  },
  {
   "cell_type": "code",
   "execution_count": 60,
   "metadata": {},
   "outputs": [
    {
     "data": {
      "text/plain": [
       "survived         0\n",
       "pclass           0\n",
       "sex              0\n",
       "age            177\n",
       "sibsp            0\n",
       "parch            0\n",
       "fare             0\n",
       "embark_town      0\n",
       "alone            0\n",
       "dtype: int64"
      ]
     },
     "execution_count": 60,
     "metadata": {},
     "output_type": "execute_result"
    }
   ],
   "source": [
    "df = acquire.get_titanic_data()\n",
    "df = df.drop(columns=['deck', 'passenger_id', 'embarked', 'class'])\n",
    "# age seems to be a key metric when looking at survival based on previous exploration, so I don't want to drop null\n",
    "# df = df[~ df.age.isna()]\n",
    "df = df[~ df.embark_town.isna()] # this only drops 2 obervations\n",
    "\n",
    "df.isnull().sum()"
   ]
  },
  {
   "cell_type": "code",
   "execution_count": 55,
   "metadata": {},
   "outputs": [
    {
     "data": {
      "text/plain": [
       "271      0.0000\n",
       "597      0.0000\n",
       "302      0.0000\n",
       "633      0.0000\n",
       "277      0.0000\n",
       "         ...   \n",
       "341    263.0000\n",
       "88     263.0000\n",
       "737    512.3292\n",
       "679    512.3292\n",
       "258    512.3292\n",
       "Name: fare, Length: 889, dtype: float64"
      ]
     },
     "execution_count": 55,
     "metadata": {},
     "output_type": "execute_result"
    }
   ],
   "source": [
    "# note double check if there are still 15 values of $0 in fares\n",
    "df.fare.sort_values()\n",
    "# yes, these values should be filled based on the average fare for other passengers in the same pclass\n",
    "# calculate value based on train data, then fill to all 3 datasets"
   ]
  },
  {
   "cell_type": "code",
   "execution_count": 69,
   "metadata": {
    "scrolled": true
   },
   "outputs": [
    {
     "data": {
      "text/html": [
       "<div>\n",
       "<style scoped>\n",
       "    .dataframe tbody tr th:only-of-type {\n",
       "        vertical-align: middle;\n",
       "    }\n",
       "\n",
       "    .dataframe tbody tr th {\n",
       "        vertical-align: top;\n",
       "    }\n",
       "\n",
       "    .dataframe thead th {\n",
       "        text-align: right;\n",
       "    }\n",
       "</style>\n",
       "<table border=\"1\" class=\"dataframe\">\n",
       "  <thead>\n",
       "    <tr style=\"text-align: right;\">\n",
       "      <th></th>\n",
       "      <th>survived</th>\n",
       "      <th>pclass</th>\n",
       "      <th>sex</th>\n",
       "      <th>age</th>\n",
       "      <th>sibsp</th>\n",
       "      <th>parch</th>\n",
       "      <th>fare</th>\n",
       "      <th>embark_town</th>\n",
       "      <th>alone</th>\n",
       "    </tr>\n",
       "  </thead>\n",
       "  <tbody>\n",
       "    <tr>\n",
       "      <th>245</th>\n",
       "      <td>0</td>\n",
       "      <td>1</td>\n",
       "      <td>male</td>\n",
       "      <td>44.0</td>\n",
       "      <td>2</td>\n",
       "      <td>0</td>\n",
       "      <td>90.0000</td>\n",
       "      <td>Queenstown</td>\n",
       "      <td>0</td>\n",
       "    </tr>\n",
       "    <tr>\n",
       "      <th>412</th>\n",
       "      <td>1</td>\n",
       "      <td>1</td>\n",
       "      <td>female</td>\n",
       "      <td>33.0</td>\n",
       "      <td>1</td>\n",
       "      <td>0</td>\n",
       "      <td>90.0000</td>\n",
       "      <td>Queenstown</td>\n",
       "      <td>0</td>\n",
       "    </tr>\n",
       "    <tr>\n",
       "      <th>16</th>\n",
       "      <td>0</td>\n",
       "      <td>3</td>\n",
       "      <td>male</td>\n",
       "      <td>2.0</td>\n",
       "      <td>4</td>\n",
       "      <td>1</td>\n",
       "      <td>29.1250</td>\n",
       "      <td>Queenstown</td>\n",
       "      <td>0</td>\n",
       "    </tr>\n",
       "    <tr>\n",
       "      <th>171</th>\n",
       "      <td>0</td>\n",
       "      <td>3</td>\n",
       "      <td>male</td>\n",
       "      <td>4.0</td>\n",
       "      <td>4</td>\n",
       "      <td>1</td>\n",
       "      <td>29.1250</td>\n",
       "      <td>Queenstown</td>\n",
       "      <td>0</td>\n",
       "    </tr>\n",
       "    <tr>\n",
       "      <th>278</th>\n",
       "      <td>0</td>\n",
       "      <td>3</td>\n",
       "      <td>male</td>\n",
       "      <td>7.0</td>\n",
       "      <td>4</td>\n",
       "      <td>1</td>\n",
       "      <td>29.1250</td>\n",
       "      <td>Queenstown</td>\n",
       "      <td>0</td>\n",
       "    </tr>\n",
       "    <tr>\n",
       "      <th>...</th>\n",
       "      <td>...</td>\n",
       "      <td>...</td>\n",
       "      <td>...</td>\n",
       "      <td>...</td>\n",
       "      <td>...</td>\n",
       "      <td>...</td>\n",
       "      <td>...</td>\n",
       "      <td>...</td>\n",
       "      <td>...</td>\n",
       "    </tr>\n",
       "    <tr>\n",
       "      <th>502</th>\n",
       "      <td>0</td>\n",
       "      <td>3</td>\n",
       "      <td>female</td>\n",
       "      <td>NaN</td>\n",
       "      <td>0</td>\n",
       "      <td>0</td>\n",
       "      <td>7.6292</td>\n",
       "      <td>Queenstown</td>\n",
       "      <td>1</td>\n",
       "    </tr>\n",
       "    <tr>\n",
       "      <th>825</th>\n",
       "      <td>0</td>\n",
       "      <td>3</td>\n",
       "      <td>male</td>\n",
       "      <td>NaN</td>\n",
       "      <td>0</td>\n",
       "      <td>0</td>\n",
       "      <td>6.9500</td>\n",
       "      <td>Queenstown</td>\n",
       "      <td>1</td>\n",
       "    </tr>\n",
       "    <tr>\n",
       "      <th>411</th>\n",
       "      <td>0</td>\n",
       "      <td>3</td>\n",
       "      <td>male</td>\n",
       "      <td>NaN</td>\n",
       "      <td>0</td>\n",
       "      <td>0</td>\n",
       "      <td>6.8583</td>\n",
       "      <td>Queenstown</td>\n",
       "      <td>1</td>\n",
       "    </tr>\n",
       "    <tr>\n",
       "      <th>143</th>\n",
       "      <td>0</td>\n",
       "      <td>3</td>\n",
       "      <td>male</td>\n",
       "      <td>19.0</td>\n",
       "      <td>0</td>\n",
       "      <td>0</td>\n",
       "      <td>6.7500</td>\n",
       "      <td>Queenstown</td>\n",
       "      <td>1</td>\n",
       "    </tr>\n",
       "    <tr>\n",
       "      <th>654</th>\n",
       "      <td>0</td>\n",
       "      <td>3</td>\n",
       "      <td>female</td>\n",
       "      <td>18.0</td>\n",
       "      <td>0</td>\n",
       "      <td>0</td>\n",
       "      <td>6.7500</td>\n",
       "      <td>Queenstown</td>\n",
       "      <td>1</td>\n",
       "    </tr>\n",
       "  </tbody>\n",
       "</table>\n",
       "<p>77 rows × 9 columns</p>\n",
       "</div>"
      ],
      "text/plain": [
       "     survived  pclass     sex   age  sibsp  parch     fare embark_town  alone\n",
       "245         0       1    male  44.0      2      0  90.0000  Queenstown      0\n",
       "412         1       1  female  33.0      1      0  90.0000  Queenstown      0\n",
       "16          0       3    male   2.0      4      1  29.1250  Queenstown      0\n",
       "171         0       3    male   4.0      4      1  29.1250  Queenstown      0\n",
       "278         0       3    male   7.0      4      1  29.1250  Queenstown      0\n",
       "..        ...     ...     ...   ...    ...    ...      ...         ...    ...\n",
       "502         0       3  female   NaN      0      0   7.6292  Queenstown      1\n",
       "825         0       3    male   NaN      0      0   6.9500  Queenstown      1\n",
       "411         0       3    male   NaN      0      0   6.8583  Queenstown      1\n",
       "143         0       3    male  19.0      0      0   6.7500  Queenstown      1\n",
       "654         0       3  female  18.0      0      0   6.7500  Queenstown      1\n",
       "\n",
       "[77 rows x 9 columns]"
      ]
     },
     "execution_count": 69,
     "metadata": {},
     "output_type": "execute_result"
    }
   ],
   "source": [
    "# check outlier fares of $500 plus, are these valid?\n",
    "highfare = df[df.embark_town == \"Queenstown\"].sort_values(by=['embark_town', 'fare'], ascending=False)\n",
    "highfare\n",
    "# all 3 embarked in Cherbourg which was 1st loading port, all 3 are first class\n",
    "# there are other first class tickets for same port that are in the same range as first class passengers\n",
    "# that borarded in Southampton (the 2nd port), passengers boarding at the 3rd port Queenstown paid less\n",
    "# keep high fares"
   ]
  },
  {
   "cell_type": "code",
   "execution_count": null,
   "metadata": {},
   "outputs": [],
   "source": [
    "# after split, calculate fares and fill, eval age nulls"
   ]
  },
  {
   "cell_type": "code",
   "execution_count": null,
   "metadata": {},
   "outputs": [],
   "source": [
    "train, validate, test = prepare.titanic_split(df)\n",
    "\n",
    "#train = train[['survived', 'pclass', 'sex', 'age', 'fare', 'embark_town', 'alone']]\n",
    "\n",
    "train.head()"
   ]
  },
  {
   "cell_type": "code",
   "execution_count": null,
   "metadata": {},
   "outputs": [],
   "source": []
  },
  {
   "cell_type": "code",
   "execution_count": null,
   "metadata": {},
   "outputs": [],
   "source": []
  },
  {
   "cell_type": "code",
   "execution_count": null,
   "metadata": {},
   "outputs": [],
   "source": []
  },
  {
   "cell_type": "code",
   "execution_count": null,
   "metadata": {},
   "outputs": [],
   "source": []
  },
  {
   "cell_type": "code",
   "execution_count": null,
   "metadata": {},
   "outputs": [],
   "source": []
  },
  {
   "cell_type": "code",
   "execution_count": null,
   "metadata": {},
   "outputs": [],
   "source": []
  },
  {
   "cell_type": "code",
   "execution_count": null,
   "metadata": {},
   "outputs": [],
   "source": []
  },
  {
   "cell_type": "markdown",
   "metadata": {},
   "source": [
    "# Data Exploration Exercises\n",
    "### Curriculum Exercises"
   ]
  },
  {
   "cell_type": "markdown",
   "metadata": {},
   "source": [
    "Use the iris dataset.   \n",
    "1. Split your data into train, test, and validate samples."
   ]
  },
  {
   "cell_type": "code",
   "execution_count": 24,
   "metadata": {},
   "outputs": [
    {
     "data": {
      "text/html": [
       "<div>\n",
       "<style scoped>\n",
       "    .dataframe tbody tr th:only-of-type {\n",
       "        vertical-align: middle;\n",
       "    }\n",
       "\n",
       "    .dataframe tbody tr th {\n",
       "        vertical-align: top;\n",
       "    }\n",
       "\n",
       "    .dataframe thead th {\n",
       "        text-align: right;\n",
       "    }\n",
       "</style>\n",
       "<table border=\"1\" class=\"dataframe\">\n",
       "  <thead>\n",
       "    <tr style=\"text-align: right;\">\n",
       "      <th></th>\n",
       "      <th>species_id</th>\n",
       "      <th>measurement_id</th>\n",
       "      <th>sepal_length</th>\n",
       "      <th>sepal_width</th>\n",
       "      <th>petal_length</th>\n",
       "      <th>petal_width</th>\n",
       "      <th>species_name</th>\n",
       "    </tr>\n",
       "  </thead>\n",
       "  <tbody>\n",
       "    <tr>\n",
       "      <th>0</th>\n",
       "      <td>1</td>\n",
       "      <td>1</td>\n",
       "      <td>5.1</td>\n",
       "      <td>3.5</td>\n",
       "      <td>1.4</td>\n",
       "      <td>0.2</td>\n",
       "      <td>setosa</td>\n",
       "    </tr>\n",
       "    <tr>\n",
       "      <th>1</th>\n",
       "      <td>1</td>\n",
       "      <td>2</td>\n",
       "      <td>4.9</td>\n",
       "      <td>3.0</td>\n",
       "      <td>1.4</td>\n",
       "      <td>0.2</td>\n",
       "      <td>setosa</td>\n",
       "    </tr>\n",
       "    <tr>\n",
       "      <th>2</th>\n",
       "      <td>1</td>\n",
       "      <td>3</td>\n",
       "      <td>4.7</td>\n",
       "      <td>3.2</td>\n",
       "      <td>1.3</td>\n",
       "      <td>0.2</td>\n",
       "      <td>setosa</td>\n",
       "    </tr>\n",
       "    <tr>\n",
       "      <th>3</th>\n",
       "      <td>1</td>\n",
       "      <td>4</td>\n",
       "      <td>4.6</td>\n",
       "      <td>3.1</td>\n",
       "      <td>1.5</td>\n",
       "      <td>0.2</td>\n",
       "      <td>setosa</td>\n",
       "    </tr>\n",
       "    <tr>\n",
       "      <th>4</th>\n",
       "      <td>1</td>\n",
       "      <td>5</td>\n",
       "      <td>5.0</td>\n",
       "      <td>3.6</td>\n",
       "      <td>1.4</td>\n",
       "      <td>0.2</td>\n",
       "      <td>setosa</td>\n",
       "    </tr>\n",
       "  </tbody>\n",
       "</table>\n",
       "</div>"
      ],
      "text/plain": [
       "   species_id  measurement_id  sepal_length  sepal_width  petal_length  \\\n",
       "0           1               1           5.1          3.5           1.4   \n",
       "1           1               2           4.9          3.0           1.4   \n",
       "2           1               3           4.7          3.2           1.3   \n",
       "3           1               4           4.6          3.1           1.5   \n",
       "4           1               5           5.0          3.6           1.4   \n",
       "\n",
       "   petal_width species_name  \n",
       "0          0.2       setosa  \n",
       "1          0.2       setosa  \n",
       "2          0.2       setosa  \n",
       "3          0.2       setosa  \n",
       "4          0.2       setosa  "
      ]
     },
     "execution_count": 24,
     "metadata": {},
     "output_type": "execute_result"
    }
   ],
   "source": [
    "iris = acquire.get_iris_data()\n",
    "iris.head()"
   ]
  },
  {
   "cell_type": "code",
   "execution_count": 25,
   "metadata": {},
   "outputs": [
    {
     "data": {
      "text/html": [
       "<div>\n",
       "<style scoped>\n",
       "    .dataframe tbody tr th:only-of-type {\n",
       "        vertical-align: middle;\n",
       "    }\n",
       "\n",
       "    .dataframe tbody tr th {\n",
       "        vertical-align: top;\n",
       "    }\n",
       "\n",
       "    .dataframe thead th {\n",
       "        text-align: right;\n",
       "    }\n",
       "</style>\n",
       "<table border=\"1\" class=\"dataframe\">\n",
       "  <thead>\n",
       "    <tr style=\"text-align: right;\">\n",
       "      <th></th>\n",
       "      <th>sepal_length</th>\n",
       "      <th>sepal_width</th>\n",
       "      <th>petal_length</th>\n",
       "      <th>petal_width</th>\n",
       "      <th>species_name</th>\n",
       "    </tr>\n",
       "  </thead>\n",
       "  <tbody>\n",
       "    <tr>\n",
       "      <th>0</th>\n",
       "      <td>5.1</td>\n",
       "      <td>3.5</td>\n",
       "      <td>1.4</td>\n",
       "      <td>0.2</td>\n",
       "      <td>setosa</td>\n",
       "    </tr>\n",
       "    <tr>\n",
       "      <th>1</th>\n",
       "      <td>4.9</td>\n",
       "      <td>3.0</td>\n",
       "      <td>1.4</td>\n",
       "      <td>0.2</td>\n",
       "      <td>setosa</td>\n",
       "    </tr>\n",
       "    <tr>\n",
       "      <th>2</th>\n",
       "      <td>4.7</td>\n",
       "      <td>3.2</td>\n",
       "      <td>1.3</td>\n",
       "      <td>0.2</td>\n",
       "      <td>setosa</td>\n",
       "    </tr>\n",
       "    <tr>\n",
       "      <th>3</th>\n",
       "      <td>4.6</td>\n",
       "      <td>3.1</td>\n",
       "      <td>1.5</td>\n",
       "      <td>0.2</td>\n",
       "      <td>setosa</td>\n",
       "    </tr>\n",
       "    <tr>\n",
       "      <th>4</th>\n",
       "      <td>5.0</td>\n",
       "      <td>3.6</td>\n",
       "      <td>1.4</td>\n",
       "      <td>0.2</td>\n",
       "      <td>setosa</td>\n",
       "    </tr>\n",
       "    <tr>\n",
       "      <th>...</th>\n",
       "      <td>...</td>\n",
       "      <td>...</td>\n",
       "      <td>...</td>\n",
       "      <td>...</td>\n",
       "      <td>...</td>\n",
       "    </tr>\n",
       "    <tr>\n",
       "      <th>145</th>\n",
       "      <td>6.7</td>\n",
       "      <td>3.0</td>\n",
       "      <td>5.2</td>\n",
       "      <td>2.3</td>\n",
       "      <td>virginica</td>\n",
       "    </tr>\n",
       "    <tr>\n",
       "      <th>146</th>\n",
       "      <td>6.3</td>\n",
       "      <td>2.5</td>\n",
       "      <td>5.0</td>\n",
       "      <td>1.9</td>\n",
       "      <td>virginica</td>\n",
       "    </tr>\n",
       "    <tr>\n",
       "      <th>147</th>\n",
       "      <td>6.5</td>\n",
       "      <td>3.0</td>\n",
       "      <td>5.2</td>\n",
       "      <td>2.0</td>\n",
       "      <td>virginica</td>\n",
       "    </tr>\n",
       "    <tr>\n",
       "      <th>148</th>\n",
       "      <td>6.2</td>\n",
       "      <td>3.4</td>\n",
       "      <td>5.4</td>\n",
       "      <td>2.3</td>\n",
       "      <td>virginica</td>\n",
       "    </tr>\n",
       "    <tr>\n",
       "      <th>149</th>\n",
       "      <td>5.9</td>\n",
       "      <td>3.0</td>\n",
       "      <td>5.1</td>\n",
       "      <td>1.8</td>\n",
       "      <td>virginica</td>\n",
       "    </tr>\n",
       "  </tbody>\n",
       "</table>\n",
       "<p>150 rows × 5 columns</p>\n",
       "</div>"
      ],
      "text/plain": [
       "     sepal_length  sepal_width  petal_length  petal_width species_name\n",
       "0             5.1          3.5           1.4          0.2       setosa\n",
       "1             4.9          3.0           1.4          0.2       setosa\n",
       "2             4.7          3.2           1.3          0.2       setosa\n",
       "3             4.6          3.1           1.5          0.2       setosa\n",
       "4             5.0          3.6           1.4          0.2       setosa\n",
       "..            ...          ...           ...          ...          ...\n",
       "145           6.7          3.0           5.2          2.3    virginica\n",
       "146           6.3          2.5           5.0          1.9    virginica\n",
       "147           6.5          3.0           5.2          2.0    virginica\n",
       "148           6.2          3.4           5.4          2.3    virginica\n",
       "149           5.9          3.0           5.1          1.8    virginica\n",
       "\n",
       "[150 rows x 5 columns]"
      ]
     },
     "execution_count": 25,
     "metadata": {},
     "output_type": "execute_result"
    }
   ],
   "source": [
    "iris = iris.drop(columns=['species_id', 'measurement_id'])\n",
    "iris"
   ]
  },
  {
   "cell_type": "code",
   "execution_count": 26,
   "metadata": {},
   "outputs": [
    {
     "data": {
      "text/html": [
       "<div>\n",
       "<style scoped>\n",
       "    .dataframe tbody tr th:only-of-type {\n",
       "        vertical-align: middle;\n",
       "    }\n",
       "\n",
       "    .dataframe tbody tr th {\n",
       "        vertical-align: top;\n",
       "    }\n",
       "\n",
       "    .dataframe thead th {\n",
       "        text-align: right;\n",
       "    }\n",
       "</style>\n",
       "<table border=\"1\" class=\"dataframe\">\n",
       "  <thead>\n",
       "    <tr style=\"text-align: right;\">\n",
       "      <th></th>\n",
       "      <th>sepal_length</th>\n",
       "      <th>sepal_width</th>\n",
       "      <th>petal_length</th>\n",
       "      <th>petal_width</th>\n",
       "      <th>species</th>\n",
       "    </tr>\n",
       "  </thead>\n",
       "  <tbody>\n",
       "    <tr>\n",
       "      <th>0</th>\n",
       "      <td>5.1</td>\n",
       "      <td>3.5</td>\n",
       "      <td>1.4</td>\n",
       "      <td>0.2</td>\n",
       "      <td>setosa</td>\n",
       "    </tr>\n",
       "    <tr>\n",
       "      <th>1</th>\n",
       "      <td>4.9</td>\n",
       "      <td>3.0</td>\n",
       "      <td>1.4</td>\n",
       "      <td>0.2</td>\n",
       "      <td>setosa</td>\n",
       "    </tr>\n",
       "    <tr>\n",
       "      <th>2</th>\n",
       "      <td>4.7</td>\n",
       "      <td>3.2</td>\n",
       "      <td>1.3</td>\n",
       "      <td>0.2</td>\n",
       "      <td>setosa</td>\n",
       "    </tr>\n",
       "    <tr>\n",
       "      <th>3</th>\n",
       "      <td>4.6</td>\n",
       "      <td>3.1</td>\n",
       "      <td>1.5</td>\n",
       "      <td>0.2</td>\n",
       "      <td>setosa</td>\n",
       "    </tr>\n",
       "    <tr>\n",
       "      <th>4</th>\n",
       "      <td>5.0</td>\n",
       "      <td>3.6</td>\n",
       "      <td>1.4</td>\n",
       "      <td>0.2</td>\n",
       "      <td>setosa</td>\n",
       "    </tr>\n",
       "  </tbody>\n",
       "</table>\n",
       "</div>"
      ],
      "text/plain": [
       "   sepal_length  sepal_width  petal_length  petal_width species\n",
       "0           5.1          3.5           1.4          0.2  setosa\n",
       "1           4.9          3.0           1.4          0.2  setosa\n",
       "2           4.7          3.2           1.3          0.2  setosa\n",
       "3           4.6          3.1           1.5          0.2  setosa\n",
       "4           5.0          3.6           1.4          0.2  setosa"
      ]
     },
     "execution_count": 26,
     "metadata": {},
     "output_type": "execute_result"
    }
   ],
   "source": [
    "iris = iris.rename(columns={'species_name': 'species'})\n",
    "iris.head()"
   ]
  },
  {
   "cell_type": "code",
   "execution_count": 27,
   "metadata": {},
   "outputs": [
    {
     "data": {
      "text/html": [
       "<div>\n",
       "<style scoped>\n",
       "    .dataframe tbody tr th:only-of-type {\n",
       "        vertical-align: middle;\n",
       "    }\n",
       "\n",
       "    .dataframe tbody tr th {\n",
       "        vertical-align: top;\n",
       "    }\n",
       "\n",
       "    .dataframe thead th {\n",
       "        text-align: right;\n",
       "    }\n",
       "</style>\n",
       "<table border=\"1\" class=\"dataframe\">\n",
       "  <thead>\n",
       "    <tr style=\"text-align: right;\">\n",
       "      <th></th>\n",
       "      <th>sepal_length</th>\n",
       "      <th>sepal_width</th>\n",
       "      <th>petal_length</th>\n",
       "      <th>petal_width</th>\n",
       "      <th>species</th>\n",
       "    </tr>\n",
       "  </thead>\n",
       "  <tbody>\n",
       "    <tr>\n",
       "      <th>79</th>\n",
       "      <td>5.7</td>\n",
       "      <td>2.6</td>\n",
       "      <td>3.5</td>\n",
       "      <td>1.0</td>\n",
       "      <td>versicolor</td>\n",
       "    </tr>\n",
       "    <tr>\n",
       "      <th>36</th>\n",
       "      <td>5.5</td>\n",
       "      <td>3.5</td>\n",
       "      <td>1.3</td>\n",
       "      <td>0.2</td>\n",
       "      <td>setosa</td>\n",
       "    </tr>\n",
       "    <tr>\n",
       "      <th>133</th>\n",
       "      <td>6.3</td>\n",
       "      <td>2.8</td>\n",
       "      <td>5.1</td>\n",
       "      <td>1.5</td>\n",
       "      <td>virginica</td>\n",
       "    </tr>\n",
       "    <tr>\n",
       "      <th>95</th>\n",
       "      <td>5.7</td>\n",
       "      <td>3.0</td>\n",
       "      <td>4.2</td>\n",
       "      <td>1.2</td>\n",
       "      <td>versicolor</td>\n",
       "    </tr>\n",
       "    <tr>\n",
       "      <th>18</th>\n",
       "      <td>5.7</td>\n",
       "      <td>3.8</td>\n",
       "      <td>1.7</td>\n",
       "      <td>0.3</td>\n",
       "      <td>setosa</td>\n",
       "    </tr>\n",
       "  </tbody>\n",
       "</table>\n",
       "</div>"
      ],
      "text/plain": [
       "     sepal_length  sepal_width  petal_length  petal_width     species\n",
       "79            5.7          2.6           3.5          1.0  versicolor\n",
       "36            5.5          3.5           1.3          0.2      setosa\n",
       "133           6.3          2.8           5.1          1.5   virginica\n",
       "95            5.7          3.0           4.2          1.2  versicolor\n",
       "18            5.7          3.8           1.7          0.3      setosa"
      ]
     },
     "execution_count": 27,
     "metadata": {},
     "output_type": "execute_result"
    }
   ],
   "source": [
    "iristrain, irisvalidate, iristest = prepare.split_iris_dataset(iris)\n",
    "iristrain.head()"
   ]
  },
  {
   "cell_type": "markdown",
   "metadata": {},
   "source": [
    "2. Create a swarmplot using a melted dataframe of all your numeric variables.   \n",
    "The x-axis should be the variable name, the y-axis is the measure.   \n",
    "Add another dimension using color to represent species.   \n",
    "Document takeaways from this visualization."
   ]
  },
  {
   "cell_type": "code",
   "execution_count": 28,
   "metadata": {},
   "outputs": [
    {
     "data": {
      "text/html": [
       "<div>\n",
       "<style scoped>\n",
       "    .dataframe tbody tr th:only-of-type {\n",
       "        vertical-align: middle;\n",
       "    }\n",
       "\n",
       "    .dataframe tbody tr th {\n",
       "        vertical-align: top;\n",
       "    }\n",
       "\n",
       "    .dataframe thead th {\n",
       "        text-align: right;\n",
       "    }\n",
       "</style>\n",
       "<table border=\"1\" class=\"dataframe\">\n",
       "  <thead>\n",
       "    <tr style=\"text-align: right;\">\n",
       "      <th></th>\n",
       "      <th>species</th>\n",
       "      <th>variable</th>\n",
       "      <th>value</th>\n",
       "    </tr>\n",
       "  </thead>\n",
       "  <tbody>\n",
       "    <tr>\n",
       "      <th>0</th>\n",
       "      <td>versicolor</td>\n",
       "      <td>sepal_length</td>\n",
       "      <td>5.7</td>\n",
       "    </tr>\n",
       "    <tr>\n",
       "      <th>1</th>\n",
       "      <td>setosa</td>\n",
       "      <td>sepal_length</td>\n",
       "      <td>5.5</td>\n",
       "    </tr>\n",
       "    <tr>\n",
       "      <th>2</th>\n",
       "      <td>virginica</td>\n",
       "      <td>sepal_length</td>\n",
       "      <td>6.3</td>\n",
       "    </tr>\n",
       "    <tr>\n",
       "      <th>3</th>\n",
       "      <td>versicolor</td>\n",
       "      <td>sepal_length</td>\n",
       "      <td>5.7</td>\n",
       "    </tr>\n",
       "    <tr>\n",
       "      <th>4</th>\n",
       "      <td>setosa</td>\n",
       "      <td>sepal_length</td>\n",
       "      <td>5.7</td>\n",
       "    </tr>\n",
       "    <tr>\n",
       "      <th>...</th>\n",
       "      <td>...</td>\n",
       "      <td>...</td>\n",
       "      <td>...</td>\n",
       "    </tr>\n",
       "    <tr>\n",
       "      <th>331</th>\n",
       "      <td>setosa</td>\n",
       "      <td>petal_width</td>\n",
       "      <td>0.2</td>\n",
       "    </tr>\n",
       "    <tr>\n",
       "      <th>332</th>\n",
       "      <td>versicolor</td>\n",
       "      <td>petal_width</td>\n",
       "      <td>1.6</td>\n",
       "    </tr>\n",
       "    <tr>\n",
       "      <th>333</th>\n",
       "      <td>versicolor</td>\n",
       "      <td>petal_width</td>\n",
       "      <td>1.3</td>\n",
       "    </tr>\n",
       "    <tr>\n",
       "      <th>334</th>\n",
       "      <td>setosa</td>\n",
       "      <td>petal_width</td>\n",
       "      <td>0.4</td>\n",
       "    </tr>\n",
       "    <tr>\n",
       "      <th>335</th>\n",
       "      <td>versicolor</td>\n",
       "      <td>petal_width</td>\n",
       "      <td>1.2</td>\n",
       "    </tr>\n",
       "  </tbody>\n",
       "</table>\n",
       "<p>336 rows × 3 columns</p>\n",
       "</div>"
      ],
      "text/plain": [
       "        species      variable  value\n",
       "0    versicolor  sepal_length    5.7\n",
       "1        setosa  sepal_length    5.5\n",
       "2     virginica  sepal_length    6.3\n",
       "3    versicolor  sepal_length    5.7\n",
       "4        setosa  sepal_length    5.7\n",
       "..          ...           ...    ...\n",
       "331      setosa   petal_width    0.2\n",
       "332  versicolor   petal_width    1.6\n",
       "333  versicolor   petal_width    1.3\n",
       "334      setosa   petal_width    0.4\n",
       "335  versicolor   petal_width    1.2\n",
       "\n",
       "[336 rows x 3 columns]"
      ]
     },
     "execution_count": 28,
     "metadata": {},
     "output_type": "execute_result"
    }
   ],
   "source": [
    "irismelt = iristrain.melt(id_vars='species')\n",
    "irismelt"
   ]
  },
  {
   "cell_type": "code",
   "execution_count": 29,
   "metadata": {},
   "outputs": [
    {
     "data": {
      "text/plain": [
       "<matplotlib.axes._subplots.AxesSubplot at 0x7f92088ecdd0>"
      ]
     },
     "execution_count": 29,
     "metadata": {},
     "output_type": "execute_result"
    },
    {
     "data": {
      "image/png": "[encoded data removed]",
      "text/plain": [
       "<Figure size 432x288 with 1 Axes>"
      ]
     },
     "metadata": {
      "needs_background": "light"
     },
     "output_type": "display_data"
    }
   ],
   "source": [
    "# sns.swarmplot(x=\"variable\", y=\"value\", data=melted_train, hue=\"species\", palette=\"Set2\")\n",
    "#melted_iris = train.melt('species', ['sepal_length','sepal_width','petal_length','petal_width'])\n",
    "swarmplot = sns.swarmplot(x='variable', y='value', data=irismelt, hue='species')\n",
    "swarmplot"
   ]
  },
  {
   "cell_type": "markdown",
   "metadata": {},
   "source": [
    "Document takeaways from this visualization  \n",
    "\n",
    "- setosa petal length and petal width are distinct from the other 2 species\n",
    "- petal length and petal width are distinct for versicolor and virginica but the range is closer together\n",
    "- there is substaintial overlap in sepal width between all 3 species\n",
    "- there is minimal overlap , but still some overlap, in sepal length for all 3 species\n"
   ]
  },
  {
   "cell_type": "markdown",
   "metadata": {},
   "source": [
    "3. Create 4 subplots (2 rows x 2 columns) of scatterplots.  \n",
    "    - sepal_length x sepal_width  \n",
    "    - petal_length x petal_width  \n",
    "    - sepal_area x petal_area  \n",
    "    - sepal_length x petal_length    \n",
    "\n",
    "What are your takeaways?"
   ]
  },
  {
   "cell_type": "code",
   "execution_count": null,
   "metadata": {},
   "outputs": [],
   "source": [
    "# fig, axs = plt.subplots(3, 1, figsize=(12, 7), sharex=True, sharey=True)\n",
    "\n",
    "# train.age.plot.hist(ax=axs[0], title='Overall')\n",
    "# train[train.survived == 1].age.plot.hist(ax=axs[1], title='Survived')\n",
    "# train[train.survived == 0].age.plot.hist(ax=axs[2], title='Died')\n",
    "# fig.tight_layout()"
   ]
  },
  {
   "cell_type": "code",
   "execution_count": 30,
   "metadata": {},
   "outputs": [
    {
     "data": {
      "text/html": [
       "<div>\n",
       "<style scoped>\n",
       "    .dataframe tbody tr th:only-of-type {\n",
       "        vertical-align: middle;\n",
       "    }\n",
       "\n",
       "    .dataframe tbody tr th {\n",
       "        vertical-align: top;\n",
       "    }\n",
       "\n",
       "    .dataframe thead th {\n",
       "        text-align: right;\n",
       "    }\n",
       "</style>\n",
       "<table border=\"1\" class=\"dataframe\">\n",
       "  <thead>\n",
       "    <tr style=\"text-align: right;\">\n",
       "      <th></th>\n",
       "      <th>sepal_length</th>\n",
       "      <th>sepal_width</th>\n",
       "      <th>petal_length</th>\n",
       "      <th>petal_width</th>\n",
       "      <th>species</th>\n",
       "      <th>sepal_area</th>\n",
       "      <th>petal_area</th>\n",
       "    </tr>\n",
       "  </thead>\n",
       "  <tbody>\n",
       "    <tr>\n",
       "      <th>79</th>\n",
       "      <td>5.7</td>\n",
       "      <td>2.6</td>\n",
       "      <td>3.5</td>\n",
       "      <td>1.0</td>\n",
       "      <td>versicolor</td>\n",
       "      <td>14.82</td>\n",
       "      <td>3.50</td>\n",
       "    </tr>\n",
       "    <tr>\n",
       "      <th>36</th>\n",
       "      <td>5.5</td>\n",
       "      <td>3.5</td>\n",
       "      <td>1.3</td>\n",
       "      <td>0.2</td>\n",
       "      <td>setosa</td>\n",
       "      <td>19.25</td>\n",
       "      <td>0.26</td>\n",
       "    </tr>\n",
       "    <tr>\n",
       "      <th>133</th>\n",
       "      <td>6.3</td>\n",
       "      <td>2.8</td>\n",
       "      <td>5.1</td>\n",
       "      <td>1.5</td>\n",
       "      <td>virginica</td>\n",
       "      <td>17.64</td>\n",
       "      <td>7.65</td>\n",
       "    </tr>\n",
       "    <tr>\n",
       "      <th>95</th>\n",
       "      <td>5.7</td>\n",
       "      <td>3.0</td>\n",
       "      <td>4.2</td>\n",
       "      <td>1.2</td>\n",
       "      <td>versicolor</td>\n",
       "      <td>17.10</td>\n",
       "      <td>5.04</td>\n",
       "    </tr>\n",
       "    <tr>\n",
       "      <th>18</th>\n",
       "      <td>5.7</td>\n",
       "      <td>3.8</td>\n",
       "      <td>1.7</td>\n",
       "      <td>0.3</td>\n",
       "      <td>setosa</td>\n",
       "      <td>21.66</td>\n",
       "      <td>0.51</td>\n",
       "    </tr>\n",
       "  </tbody>\n",
       "</table>\n",
       "</div>"
      ],
      "text/plain": [
       "     sepal_length  sepal_width  petal_length  petal_width     species  \\\n",
       "79            5.7          2.6           3.5          1.0  versicolor   \n",
       "36            5.5          3.5           1.3          0.2      setosa   \n",
       "133           6.3          2.8           5.1          1.5   virginica   \n",
       "95            5.7          3.0           4.2          1.2  versicolor   \n",
       "18            5.7          3.8           1.7          0.3      setosa   \n",
       "\n",
       "     sepal_area  petal_area  \n",
       "79        14.82        3.50  \n",
       "36        19.25        0.26  \n",
       "133       17.64        7.65  \n",
       "95        17.10        5.04  \n",
       "18        21.66        0.51  "
      ]
     },
     "execution_count": 30,
     "metadata": {},
     "output_type": "execute_result"
    }
   ],
   "source": [
    "iristrain['sepal_area'] = iristrain.sepal_length * iristrain.sepal_width\n",
    "iristrain['petal_area'] = iristrain.petal_length * iristrain.petal_width\n",
    "iristrain.head()"
   ]
  },
  {
   "cell_type": "code",
   "execution_count": null,
   "metadata": {},
   "outputs": [],
   "source": [
    "# fig, axs = plt.subplots(3, 1, figsize=(12, 7), sharex=True, sharey=True)\n",
    "\n",
    "# train.age.plot.hist(ax=axs[0], title='Overall')\n",
    "# train[train.survived == 1].age.plot.hist(ax=axs[1], title='Survived')\n",
    "# train[train.survived == 0].age.plot.hist(ax=axs[2], title='Died')\n",
    "# fig.tight_layout()"
   ]
  },
  {
   "cell_type": "code",
   "execution_count": 38,
   "metadata": {},
   "outputs": [
    {
     "data": {
      "image/png": "[encoded data removed]",
      "text/plain": [
       "<Figure size 1152x648 with 4 Axes>"
      ]
     },
     "metadata": {
      "needs_background": "light"
     },
     "output_type": "display_data"
    }
   ],
   "source": [
    "fig, axs = plt.subplots(2, 2, figsize=(16, 9), sharex=True, sharey=True)\n",
    "\n",
    "plt.subplot(2,2,1)\n",
    "plt.scatter(iristrain.sepal_length, iristrain.sepal_width)\n",
    "plt.title('sepal length by sepal width')\n",
    "\n",
    "plt.subplot(2,2,2)\n",
    "plt.scatter(iristrain.petal_length, iristrain.petal_width)\n",
    "plt.title('petal length by petal width')\n",
    "\n",
    "plt.subplot(2,2,3)\n",
    "plt.scatter(iristrain.sepal_area, iristrain.petal_area)\n",
    "plt.title('sepal area by petal area')\n",
    "\n",
    "plt.subplot(2,2,4)\n",
    "plt.scatter(iristrain.sepal_length, iristrain.petal_length)\n",
    "plt.title('sepal length by petal length')\n",
    "\n",
    "plt.show()"
   ]
  },
  {
   "cell_type": "markdown",
   "metadata": {},
   "source": [
    "What are your takeaways?  \n",
    "\n",
    "- sepal length and sepal width do not appear to be linearly correlated\n",
    "- petal lenth and petal width do appear to be positively linearly correlated\n",
    "- sepal area and petal area may be somewhat positively correlated\n",
    "- also sepal length and petal length may have positive linear correlation\n"
   ]
  },
  {
   "cell_type": "markdown",
   "metadata": {},
   "source": [
    "4. Create a heatmap of each variable layering correlation coefficient on top."
   ]
  },
  {
   "cell_type": "code",
   "execution_count": 41,
   "metadata": {},
   "outputs": [
    {
     "data": {
      "text/plain": [
       "<matplotlib.axes._subplots.AxesSubplot at 0x7f9209004b10>"
      ]
     },
     "execution_count": 41,
     "metadata": {},
     "output_type": "execute_result"
    },
    {
     "data": {
      "image/png": "[encoded data removed]",
      "text/plain": [
       "<Figure size 792x648 with 2 Axes>"
      ]
     },
     "metadata": {
      "needs_background": "light"
     },
     "output_type": "display_data"
    }
   ],
   "source": [
    "# https://seaborn.pydata.org/examples/many_pairwise_correlations.html\n",
    "# Compute the correlation matrix\n",
    "corr = iristrain.corr()\n",
    "\n",
    "# Generate a mask for the upper triangle\n",
    "mask = np.triu(np.ones_like(corr, dtype=bool))\n",
    "\n",
    "# Set up the matplotlib figure\n",
    "f, ax = plt.subplots(figsize=(11, 9))\n",
    "\n",
    "# Generate a custom diverging colormap\n",
    "cmap = sns.diverging_palette(230, 20, as_cmap=True)\n",
    "\n",
    "# Draw the heatmap with the mask and correct aspect ratio\n",
    "sns.heatmap(corr, mask=mask, cmap=cmap, vmax=.3, center=0,\n",
    "            square=True, annot=True, linewidths=.5, cbar_kws={\"shrink\": .5})"
   ]
  },
  {
   "cell_type": "markdown",
   "metadata": {},
   "source": [
    "5. Create a scatter matrix visualizing the interaction of each variable"
   ]
  },
  {
   "cell_type": "code",
   "execution_count": 42,
   "metadata": {},
   "outputs": [
    {
     "data": {
      "text/plain": [
       "<seaborn.axisgrid.PairGrid at 0x7f9208ac57d0>"
      ]
     },
     "execution_count": 42,
     "metadata": {},
     "output_type": "execute_result"
    },
    {
     "data": {
      "image/png": "[encoded data removed]",
      "text/plain": [
       "<Figure size 1164.75x1080 with 42 Axes>"
      ]
     },
     "metadata": {
      "needs_background": "light"
     },
     "output_type": "display_data"
    }
   ],
   "source": [
    "# https://medium.com/@raghavan99o/scatter-matrix-covariance-and-correlation-explained-14921741ca56\n",
    "# seaborn.pairplot(data, *, hue=None, hue_order=None, palette=None, vars=None, x_vars=None, y_vars=None, \n",
    "# kind='scatter', diag_kind='auto', markers=None, height=2.5, aspect=1, corner=False, dropna=False, \n",
    "# plot_kws=None, diag_kws=None, grid_kws=None, size=None)\n",
    "sns.pairplot(iristrain, hue = 'species')"
   ]
  },
  {
   "cell_type": "markdown",
   "metadata": {},
   "source": [
    "6. Is the sepal length significantly different in virginica compared to versicolor?   \n",
    "Run a statistical experiment to test this.  \n",
    "\n",
    "Make sure to include a null hypothesis, alternative hypothesis, results, and summary.  \n",
    "\n",
    "What is your takeaway from this statistical testing?"
   ]
  },
  {
   "cell_type": "markdown",
   "metadata": {},
   "source": [
    "Hypotheses   \n",
    "Ho = the sepal length of virginica is not significantly different from the sepal length of versicolor   \n",
    "Ha = the sepal length of virginica is significantly different from the sepal length of versicolor   \n"
   ]
  },
  {
   "cell_type": "code",
   "execution_count": 57,
   "metadata": {},
   "outputs": [
    {
     "name": "stdout",
     "output_type": "stream",
     "text": [
      "virginica var= 0.283425925925926\n",
      "versicolor var= 0.18109788359788362\n"
     ]
    }
   ],
   "source": [
    "# use two sample t-test\n",
    "# check varieance\n",
    "alpha = .05\n",
    "virginica = iristrain[iristrain.species == 'virginica'].sepal_length\n",
    "versicolor = iristrain[iristrain.species == 'versicolor'].sepal_length\n",
    "print(\"virginica var=\", virginica.var())\n",
    "print(\"versicolor var=\", versicolor.var())"
   ]
  },
  {
   "cell_type": "code",
   "execution_count": 58,
   "metadata": {},
   "outputs": [
    {
     "name": "stdout",
     "output_type": "stream",
     "text": [
      "t= 5.656491804882077\n",
      "p= 6.856736413800083e-07\n",
      "p < alpha= True\n"
     ]
    }
   ],
   "source": [
    "\n",
    "t, p = stats.ttest_ind(virginica, versicolor, equal_var=False)\n",
    "print('t=', t)\n",
    "print('p=', p)\n",
    "print('p < alpha=', p<alpha)"
   ]
  },
  {
   "cell_type": "markdown",
   "metadata": {},
   "source": [
    "What is your takeaway from this statistical testing?  \n",
    "\n",
    "- The value of p is  less than alpha so I reject the null hypothesis  \n",
    "- and determine that the sepal length of virginica is  significantly different from the sepal legnth of versicolor "
   ]
  },
  {
   "cell_type": "markdown",
   "metadata": {},
   "source": [
    "7. Create any other visualizations and run any other statistical tests you think will be helpful in exploring this data set."
   ]
  },
  {
   "cell_type": "markdown",
   "metadata": {},
   "source": [
    "Question: do the statistical analysis support the visual analysis that petal area and petal width are positively correlated for all 3 species?   \n",
    "\n",
    "Hypotheses   \n",
    "Ho = petal width and petal area have no relationship in any of the species     \n",
    "Ha = petal width and petal area are positively correlated in all 3 species \n",
    "\n",
    "these are then broken down to species specific hypotheses for calculation  \n",
    "Ho = there is no relationship between petal width and petal area for the setosa species  \n",
    "Ha = there is a positive relationship between petal width and petal area for the setosa species  \n",
    "\n",
    "Ho = there is no relationship between petal width and petal area for the virginica species  \n",
    "Ha = there is a positive relationship between petal width and petal area for the virginica species  \n",
    "\n",
    "Ho = there is no relationship between petal width and petal area for the versicolor species  \n",
    "Ha = there is a positive relationship between petal width and petal area for the versicolo species  "
   ]
  },
  {
   "cell_type": "code",
   "execution_count": 48,
   "metadata": {},
   "outputs": [
    {
     "name": "stdout",
     "output_type": "stream",
     "text": [
      "r= 0.9694941368901452\n",
      "p= 2.1200257722134407e-17\n",
      "p < alpha= True\n"
     ]
    }
   ],
   "source": [
    "# setosa\n",
    "alpha = .05\n",
    "setosa_petalarea = iristrain[iristrain.species == 'setosa'].petal_area\n",
    "setosa_petalwidth = iristrain[iristrain.species == 'setosa'].petal_width\n",
    "# use pearson's r to calculate for 2 continuous variables\n",
    "r, p = stats.pearsonr(setosa_petalarea, setosa_petalwidth)\n",
    "print('r=', r)\n",
    "print('p=', p)\n",
    "print('p < alpha=', p<alpha)"
   ]
  },
  {
   "cell_type": "markdown",
   "metadata": {},
   "source": [
    "P is less than alpha so I reject the null hypothesis and conclude that there is a relationship between petal area and petal width for the setosa species. Additionally the r value is very close to 1 indicating this a strong positive correlation."
   ]
  },
  {
   "cell_type": "code",
   "execution_count": 49,
   "metadata": {},
   "outputs": [
    {
     "name": "stdout",
     "output_type": "stream",
     "text": [
      "r= 0.8845556430876871\n",
      "p= 4.245187662281892e-10\n",
      "p < alpha= True\n"
     ]
    }
   ],
   "source": [
    "# virginica\n",
    "alpha = .05\n",
    "virginica_petalarea = iristrain[iristrain.species == 'virginica'].petal_area\n",
    "virginica_petalwidth = iristrain[iristrain.species == 'virginica'].petal_width\n",
    "# use pearson's r to calculate for 2 continuous variables\n",
    "r, p = stats.pearsonr(virginica_petalarea, virginica_petalwidth)\n",
    "print('r=', r)\n",
    "print('p=', p)\n",
    "print('p < alpha=', p<alpha)"
   ]
  },
  {
   "cell_type": "markdown",
   "metadata": {},
   "source": [
    "P is less than alpha so I reject the null hypothesis and conclude that there is a relationship between petal area and petal width for the setosa species. Additionally the r value is close to 1 (though not as close as for setosa and versicolor) but still indicating this a strong positive correlation."
   ]
  },
  {
   "cell_type": "code",
   "execution_count": 50,
   "metadata": {},
   "outputs": [
    {
     "name": "stdout",
     "output_type": "stream",
     "text": [
      "r= 0.9700718484455287\n",
      "p= 1.65887333612377e-17\n",
      "p < alpha= True\n"
     ]
    }
   ],
   "source": [
    "# versicolor\n",
    "alpha = .05\n",
    "versicolor_petalarea = iristrain[iristrain.species == 'versicolor'].petal_area\n",
    "versicolor_petalwidth = iristrain[iristrain.species == 'versicolor'].petal_width\n",
    "# use pearson's r to calculate for 2 continuous variables\n",
    "r, p = stats.pearsonr(versicolor_petalarea, versicolor_petalwidth)\n",
    "print('r=', r)\n",
    "print('p=', p)\n",
    "print('p < alpha=', p<alpha)"
   ]
  },
  {
   "cell_type": "markdown",
   "metadata": {},
   "source": [
    "P is less than alpha so I reject the null hypothesis and conclude that there is a relationship between petal area and petal width for the setosa species. Additionally the r value is very close to 1 indicating this a strong positive correlation."
   ]
  },
  {
   "cell_type": "markdown",
   "metadata": {},
   "source": [
    "Given that the null hypothesis for each species was rejected, I would then conclude that the overall Ho would also be rejected. There is a positive linear correlation between petal area and petal width for all 3 species."
   ]
  },
  {
   "cell_type": "code",
   "execution_count": null,
   "metadata": {},
   "outputs": [],
   "source": []
  }
 ],
 "metadata": {
  "kernelspec": {
   "display_name": "Python 3",
   "language": "python",
   "name": "python3"
  },
  "language_info": {
   "codemirror_mode": {
    "name": "ipython",
    "version": 3
   },
   "file_extension": ".py",
   "mimetype": "text/x-python",
   "name": "python",
   "nbconvert_exporter": "python",
   "pygments_lexer": "ipython3",
   "version": "3.7.6"
  }
 },
 "nbformat": 4,
 "nbformat_minor": 4
}
